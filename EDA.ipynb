{
 "cells": [
  {
   "cell_type": "markdown",
   "metadata": {},
   "source": [
    "# GALSEN AI Fraud Detection Competition"
   ]
  },
  {
   "cell_type": "markdown",
   "metadata": {},
   "source": [
    "### Importation des bibliothèques"
   ]
  },
  {
   "cell_type": "code",
   "execution_count": 107,
   "metadata": {},
   "outputs": [],
   "source": [
    "import pandas as pd\n",
    "import numpy as np\n",
    "import seaborn as sns\n",
    "import matplotlib.pyplot as plt"
   ]
  },
  {
   "cell_type": "code",
   "execution_count": 108,
   "metadata": {},
   "outputs": [
    {
     "name": "stdout",
     "output_type": "stream",
     "text": [
      "Version de pandas: 2.2.2\n",
      "Version de numpy: 1.26.4\n",
      "Version de seaborn: 0.13.2\n"
     ]
    }
   ],
   "source": [
    "print(f\"Version de pandas: {pd.__version__}\")\n",
    "print(f\"Version de numpy: {np.__version__}\")\n",
    "print(f\"Version de seaborn: {sns.__version__}\")"
   ]
  },
  {
   "cell_type": "markdown",
   "metadata": {},
   "source": [
    "### Description des données"
   ]
  },
  {
   "cell_type": "code",
   "execution_count": 109,
   "metadata": {},
   "outputs": [
    {
     "name": "stdout",
     "output_type": "stream",
     "text": [
      "|    | Column Name          | Definition                                                                                                        |\n",
      "|---:|:---------------------|:------------------------------------------------------------------------------------------------------------------|\n",
      "|  0 | TransactionId        | Unique �transaction identifier on platform                                                                        |\n",
      "|  1 | BatchId              | Unique number assigned to a batch of transactions for processing                                                  |\n",
      "|  2 | AccountId            | Unique number identifying the customer on platform                                                                |\n",
      "|  3 | SubscriptionId       | Unique number identifying the customer subscription                                                               |\n",
      "|  4 | CustomerId           | Unique identifier attached to Account                                                                             |\n",
      "|  5 | CurrencyCode         | Country currency                                                                                                  |\n",
      "|  6 | CountryCode          | Numerical geographical code of country                                                                            |\n",
      "|  7 | ProviderId           | Source provider of Item �bought.                                                                                  |\n",
      "|  8 | ProductId            | Item name being bought.                                                                                           |\n",
      "|  9 | ProductCategory      | ProductIds are organized into these broader product categories.                                                   |\n",
      "| 10 | ChannelId            | Identifies if customer used web,Android, IOS, pay later or checkout.                                              |\n",
      "| 11 | Amount               | Value of the transaction. Positive for debits from customer account and negative for credit into customer account |\n",
      "| 12 | Value                | Absolute value of the amount                                                                                      |\n",
      "| 13 | TransactionStartTime | Transaction start time                                                                                            |\n",
      "| 14 | PricingStrategy      | Category of Xente's pricing structure for merchants                                                               |\n",
      "| 15 | FraudResult          | Fraud status of transaction 1 -yes or 0-No                                                                        |\n"
     ]
    }
   ],
   "source": [
    "data_des = pd.read_csv('data/Xente_Variable_Definitions.csv')\n",
    "\n",
    "print(data_des.to_markdown())"
   ]
  },
  {
   "cell_type": "markdown",
   "metadata": {},
   "source": [
    "### Chargement des données"
   ]
  },
  {
   "cell_type": "code",
   "execution_count": 110,
   "metadata": {},
   "outputs": [
    {
     "data": {
      "text/html": [
       "<div>\n",
       "<style scoped>\n",
       "    .dataframe tbody tr th:only-of-type {\n",
       "        vertical-align: middle;\n",
       "    }\n",
       "\n",
       "    .dataframe tbody tr th {\n",
       "        vertical-align: top;\n",
       "    }\n",
       "\n",
       "    .dataframe thead th {\n",
       "        text-align: right;\n",
       "    }\n",
       "</style>\n",
       "<table border=\"1\" class=\"dataframe\">\n",
       "  <thead>\n",
       "    <tr style=\"text-align: right;\">\n",
       "      <th></th>\n",
       "      <th>TransactionId</th>\n",
       "      <th>BatchId</th>\n",
       "      <th>AccountId</th>\n",
       "      <th>SubscriptionId</th>\n",
       "      <th>CustomerId</th>\n",
       "      <th>CurrencyCode</th>\n",
       "      <th>CountryCode</th>\n",
       "      <th>ProviderId</th>\n",
       "      <th>ProductId</th>\n",
       "      <th>ProductCategory</th>\n",
       "      <th>ChannelId</th>\n",
       "      <th>Amount</th>\n",
       "      <th>Value</th>\n",
       "      <th>TransactionStartTime</th>\n",
       "      <th>PricingStrategy</th>\n",
       "      <th>FraudResult</th>\n",
       "    </tr>\n",
       "  </thead>\n",
       "  <tbody>\n",
       "    <tr>\n",
       "      <th>0</th>\n",
       "      <td>TransactionId_76871</td>\n",
       "      <td>BatchId_36123</td>\n",
       "      <td>AccountId_3957</td>\n",
       "      <td>SubscriptionId_887</td>\n",
       "      <td>CustomerId_4406</td>\n",
       "      <td>UGX</td>\n",
       "      <td>256</td>\n",
       "      <td>ProviderId_6</td>\n",
       "      <td>ProductId_10</td>\n",
       "      <td>airtime</td>\n",
       "      <td>ChannelId_3</td>\n",
       "      <td>1000.0</td>\n",
       "      <td>1000</td>\n",
       "      <td>2018-11-15T02:18:49Z</td>\n",
       "      <td>2</td>\n",
       "      <td>0</td>\n",
       "    </tr>\n",
       "    <tr>\n",
       "      <th>1</th>\n",
       "      <td>TransactionId_73770</td>\n",
       "      <td>BatchId_15642</td>\n",
       "      <td>AccountId_4841</td>\n",
       "      <td>SubscriptionId_3829</td>\n",
       "      <td>CustomerId_4406</td>\n",
       "      <td>UGX</td>\n",
       "      <td>256</td>\n",
       "      <td>ProviderId_4</td>\n",
       "      <td>ProductId_6</td>\n",
       "      <td>financial_services</td>\n",
       "      <td>ChannelId_2</td>\n",
       "      <td>-20.0</td>\n",
       "      <td>20</td>\n",
       "      <td>2018-11-15T02:19:08Z</td>\n",
       "      <td>2</td>\n",
       "      <td>0</td>\n",
       "    </tr>\n",
       "    <tr>\n",
       "      <th>2</th>\n",
       "      <td>TransactionId_26203</td>\n",
       "      <td>BatchId_53941</td>\n",
       "      <td>AccountId_4229</td>\n",
       "      <td>SubscriptionId_222</td>\n",
       "      <td>CustomerId_4683</td>\n",
       "      <td>UGX</td>\n",
       "      <td>256</td>\n",
       "      <td>ProviderId_6</td>\n",
       "      <td>ProductId_1</td>\n",
       "      <td>airtime</td>\n",
       "      <td>ChannelId_3</td>\n",
       "      <td>500.0</td>\n",
       "      <td>500</td>\n",
       "      <td>2018-11-15T02:44:21Z</td>\n",
       "      <td>2</td>\n",
       "      <td>0</td>\n",
       "    </tr>\n",
       "    <tr>\n",
       "      <th>3</th>\n",
       "      <td>TransactionId_380</td>\n",
       "      <td>BatchId_102363</td>\n",
       "      <td>AccountId_648</td>\n",
       "      <td>SubscriptionId_2185</td>\n",
       "      <td>CustomerId_988</td>\n",
       "      <td>UGX</td>\n",
       "      <td>256</td>\n",
       "      <td>ProviderId_1</td>\n",
       "      <td>ProductId_21</td>\n",
       "      <td>utility_bill</td>\n",
       "      <td>ChannelId_3</td>\n",
       "      <td>20000.0</td>\n",
       "      <td>21800</td>\n",
       "      <td>2018-11-15T03:32:55Z</td>\n",
       "      <td>2</td>\n",
       "      <td>0</td>\n",
       "    </tr>\n",
       "    <tr>\n",
       "      <th>4</th>\n",
       "      <td>TransactionId_28195</td>\n",
       "      <td>BatchId_38780</td>\n",
       "      <td>AccountId_4841</td>\n",
       "      <td>SubscriptionId_3829</td>\n",
       "      <td>CustomerId_988</td>\n",
       "      <td>UGX</td>\n",
       "      <td>256</td>\n",
       "      <td>ProviderId_4</td>\n",
       "      <td>ProductId_6</td>\n",
       "      <td>financial_services</td>\n",
       "      <td>ChannelId_2</td>\n",
       "      <td>-644.0</td>\n",
       "      <td>644</td>\n",
       "      <td>2018-11-15T03:34:21Z</td>\n",
       "      <td>2</td>\n",
       "      <td>0</td>\n",
       "    </tr>\n",
       "    <tr>\n",
       "      <th>...</th>\n",
       "      <td>...</td>\n",
       "      <td>...</td>\n",
       "      <td>...</td>\n",
       "      <td>...</td>\n",
       "      <td>...</td>\n",
       "      <td>...</td>\n",
       "      <td>...</td>\n",
       "      <td>...</td>\n",
       "      <td>...</td>\n",
       "      <td>...</td>\n",
       "      <td>...</td>\n",
       "      <td>...</td>\n",
       "      <td>...</td>\n",
       "      <td>...</td>\n",
       "      <td>...</td>\n",
       "      <td>...</td>\n",
       "    </tr>\n",
       "    <tr>\n",
       "      <th>95657</th>\n",
       "      <td>TransactionId_89881</td>\n",
       "      <td>BatchId_96668</td>\n",
       "      <td>AccountId_4841</td>\n",
       "      <td>SubscriptionId_3829</td>\n",
       "      <td>CustomerId_3078</td>\n",
       "      <td>UGX</td>\n",
       "      <td>256</td>\n",
       "      <td>ProviderId_4</td>\n",
       "      <td>ProductId_6</td>\n",
       "      <td>financial_services</td>\n",
       "      <td>ChannelId_2</td>\n",
       "      <td>-1000.0</td>\n",
       "      <td>1000</td>\n",
       "      <td>2019-02-13T09:54:09Z</td>\n",
       "      <td>2</td>\n",
       "      <td>0</td>\n",
       "    </tr>\n",
       "    <tr>\n",
       "      <th>95658</th>\n",
       "      <td>TransactionId_91597</td>\n",
       "      <td>BatchId_3503</td>\n",
       "      <td>AccountId_3439</td>\n",
       "      <td>SubscriptionId_2643</td>\n",
       "      <td>CustomerId_3874</td>\n",
       "      <td>UGX</td>\n",
       "      <td>256</td>\n",
       "      <td>ProviderId_6</td>\n",
       "      <td>ProductId_10</td>\n",
       "      <td>airtime</td>\n",
       "      <td>ChannelId_3</td>\n",
       "      <td>1000.0</td>\n",
       "      <td>1000</td>\n",
       "      <td>2019-02-13T09:54:25Z</td>\n",
       "      <td>2</td>\n",
       "      <td>0</td>\n",
       "    </tr>\n",
       "    <tr>\n",
       "      <th>95659</th>\n",
       "      <td>TransactionId_82501</td>\n",
       "      <td>BatchId_118602</td>\n",
       "      <td>AccountId_4841</td>\n",
       "      <td>SubscriptionId_3829</td>\n",
       "      <td>CustomerId_3874</td>\n",
       "      <td>UGX</td>\n",
       "      <td>256</td>\n",
       "      <td>ProviderId_4</td>\n",
       "      <td>ProductId_6</td>\n",
       "      <td>financial_services</td>\n",
       "      <td>ChannelId_2</td>\n",
       "      <td>-20.0</td>\n",
       "      <td>20</td>\n",
       "      <td>2019-02-13T09:54:35Z</td>\n",
       "      <td>2</td>\n",
       "      <td>0</td>\n",
       "    </tr>\n",
       "    <tr>\n",
       "      <th>95660</th>\n",
       "      <td>TransactionId_136354</td>\n",
       "      <td>BatchId_70924</td>\n",
       "      <td>AccountId_1346</td>\n",
       "      <td>SubscriptionId_652</td>\n",
       "      <td>CustomerId_1709</td>\n",
       "      <td>UGX</td>\n",
       "      <td>256</td>\n",
       "      <td>ProviderId_6</td>\n",
       "      <td>ProductId_19</td>\n",
       "      <td>tv</td>\n",
       "      <td>ChannelId_3</td>\n",
       "      <td>3000.0</td>\n",
       "      <td>3000</td>\n",
       "      <td>2019-02-13T10:01:10Z</td>\n",
       "      <td>2</td>\n",
       "      <td>0</td>\n",
       "    </tr>\n",
       "    <tr>\n",
       "      <th>95661</th>\n",
       "      <td>TransactionId_35670</td>\n",
       "      <td>BatchId_29317</td>\n",
       "      <td>AccountId_4841</td>\n",
       "      <td>SubscriptionId_3829</td>\n",
       "      <td>CustomerId_1709</td>\n",
       "      <td>UGX</td>\n",
       "      <td>256</td>\n",
       "      <td>ProviderId_4</td>\n",
       "      <td>ProductId_6</td>\n",
       "      <td>financial_services</td>\n",
       "      <td>ChannelId_2</td>\n",
       "      <td>-60.0</td>\n",
       "      <td>60</td>\n",
       "      <td>2019-02-13T10:01:28Z</td>\n",
       "      <td>2</td>\n",
       "      <td>0</td>\n",
       "    </tr>\n",
       "  </tbody>\n",
       "</table>\n",
       "<p>95662 rows × 16 columns</p>\n",
       "</div>"
      ],
      "text/plain": [
       "              TransactionId         BatchId       AccountId  \\\n",
       "0       TransactionId_76871   BatchId_36123  AccountId_3957   \n",
       "1       TransactionId_73770   BatchId_15642  AccountId_4841   \n",
       "2       TransactionId_26203   BatchId_53941  AccountId_4229   \n",
       "3         TransactionId_380  BatchId_102363   AccountId_648   \n",
       "4       TransactionId_28195   BatchId_38780  AccountId_4841   \n",
       "...                     ...             ...             ...   \n",
       "95657   TransactionId_89881   BatchId_96668  AccountId_4841   \n",
       "95658   TransactionId_91597    BatchId_3503  AccountId_3439   \n",
       "95659   TransactionId_82501  BatchId_118602  AccountId_4841   \n",
       "95660  TransactionId_136354   BatchId_70924  AccountId_1346   \n",
       "95661   TransactionId_35670   BatchId_29317  AccountId_4841   \n",
       "\n",
       "            SubscriptionId       CustomerId CurrencyCode  CountryCode  \\\n",
       "0       SubscriptionId_887  CustomerId_4406          UGX          256   \n",
       "1      SubscriptionId_3829  CustomerId_4406          UGX          256   \n",
       "2       SubscriptionId_222  CustomerId_4683          UGX          256   \n",
       "3      SubscriptionId_2185   CustomerId_988          UGX          256   \n",
       "4      SubscriptionId_3829   CustomerId_988          UGX          256   \n",
       "...                    ...              ...          ...          ...   \n",
       "95657  SubscriptionId_3829  CustomerId_3078          UGX          256   \n",
       "95658  SubscriptionId_2643  CustomerId_3874          UGX          256   \n",
       "95659  SubscriptionId_3829  CustomerId_3874          UGX          256   \n",
       "95660   SubscriptionId_652  CustomerId_1709          UGX          256   \n",
       "95661  SubscriptionId_3829  CustomerId_1709          UGX          256   \n",
       "\n",
       "         ProviderId     ProductId     ProductCategory    ChannelId   Amount  \\\n",
       "0      ProviderId_6  ProductId_10             airtime  ChannelId_3   1000.0   \n",
       "1      ProviderId_4   ProductId_6  financial_services  ChannelId_2    -20.0   \n",
       "2      ProviderId_6   ProductId_1             airtime  ChannelId_3    500.0   \n",
       "3      ProviderId_1  ProductId_21        utility_bill  ChannelId_3  20000.0   \n",
       "4      ProviderId_4   ProductId_6  financial_services  ChannelId_2   -644.0   \n",
       "...             ...           ...                 ...          ...      ...   \n",
       "95657  ProviderId_4   ProductId_6  financial_services  ChannelId_2  -1000.0   \n",
       "95658  ProviderId_6  ProductId_10             airtime  ChannelId_3   1000.0   \n",
       "95659  ProviderId_4   ProductId_6  financial_services  ChannelId_2    -20.0   \n",
       "95660  ProviderId_6  ProductId_19                  tv  ChannelId_3   3000.0   \n",
       "95661  ProviderId_4   ProductId_6  financial_services  ChannelId_2    -60.0   \n",
       "\n",
       "       Value  TransactionStartTime  PricingStrategy  FraudResult  \n",
       "0       1000  2018-11-15T02:18:49Z                2            0  \n",
       "1         20  2018-11-15T02:19:08Z                2            0  \n",
       "2        500  2018-11-15T02:44:21Z                2            0  \n",
       "3      21800  2018-11-15T03:32:55Z                2            0  \n",
       "4        644  2018-11-15T03:34:21Z                2            0  \n",
       "...      ...                   ...              ...          ...  \n",
       "95657   1000  2019-02-13T09:54:09Z                2            0  \n",
       "95658   1000  2019-02-13T09:54:25Z                2            0  \n",
       "95659     20  2019-02-13T09:54:35Z                2            0  \n",
       "95660   3000  2019-02-13T10:01:10Z                2            0  \n",
       "95661     60  2019-02-13T10:01:28Z                2            0  \n",
       "\n",
       "[95662 rows x 16 columns]"
      ]
     },
     "execution_count": 110,
     "metadata": {},
     "output_type": "execute_result"
    }
   ],
   "source": [
    "TRAIN_PATH = 'data/training.csv'\n",
    "TEST_PATH = 'data/test.csv'\n",
    "\n",
    "train_data = pd.read_csv(TRAIN_PATH)\n",
    "test_data = pd.read_csv(TEST_PATH)\n",
    "\n",
    "Test_TransactionId = test_data['TransactionId']\n",
    "\n",
    "train_data"
   ]
  },
  {
   "cell_type": "code",
   "execution_count": 111,
   "metadata": {},
   "outputs": [
    {
     "name": "stdout",
     "output_type": "stream",
     "text": [
      "<class 'pandas.core.frame.DataFrame'>\n",
      "RangeIndex: 95662 entries, 0 to 95661\n",
      "Data columns (total 16 columns):\n",
      " #   Column                Non-Null Count  Dtype  \n",
      "---  ------                --------------  -----  \n",
      " 0   TransactionId         95662 non-null  object \n",
      " 1   BatchId               95662 non-null  object \n",
      " 2   AccountId             95662 non-null  object \n",
      " 3   SubscriptionId        95662 non-null  object \n",
      " 4   CustomerId            95662 non-null  object \n",
      " 5   CurrencyCode          95662 non-null  object \n",
      " 6   CountryCode           95662 non-null  int64  \n",
      " 7   ProviderId            95662 non-null  object \n",
      " 8   ProductId             95662 non-null  object \n",
      " 9   ProductCategory       95662 non-null  object \n",
      " 10  ChannelId             95662 non-null  object \n",
      " 11  Amount                95662 non-null  float64\n",
      " 12  Value                 95662 non-null  int64  \n",
      " 13  TransactionStartTime  95662 non-null  object \n",
      " 14  PricingStrategy       95662 non-null  int64  \n",
      " 15  FraudResult           95662 non-null  int64  \n",
      "dtypes: float64(1), int64(4), object(11)\n",
      "memory usage: 11.7+ MB\n"
     ]
    }
   ],
   "source": [
    "train_data.info()"
   ]
  },
  {
   "cell_type": "code",
   "execution_count": 112,
   "metadata": {},
   "outputs": [
    {
     "name": "stdout",
     "output_type": "stream",
     "text": [
      "<class 'pandas.core.frame.DataFrame'>\n",
      "RangeIndex: 45019 entries, 0 to 45018\n",
      "Data columns (total 15 columns):\n",
      " #   Column                Non-Null Count  Dtype  \n",
      "---  ------                --------------  -----  \n",
      " 0   TransactionId         45019 non-null  object \n",
      " 1   BatchId               45019 non-null  object \n",
      " 2   AccountId             45019 non-null  object \n",
      " 3   SubscriptionId        45019 non-null  object \n",
      " 4   CustomerId            45019 non-null  object \n",
      " 5   CurrencyCode          45019 non-null  object \n",
      " 6   CountryCode           45019 non-null  int64  \n",
      " 7   ProviderId            45019 non-null  object \n",
      " 8   ProductId             45019 non-null  object \n",
      " 9   ProductCategory       45019 non-null  object \n",
      " 10  ChannelId             45019 non-null  object \n",
      " 11  Amount                45019 non-null  float64\n",
      " 12  Value                 45019 non-null  int64  \n",
      " 13  TransactionStartTime  45019 non-null  object \n",
      " 14  PricingStrategy       45019 non-null  int64  \n",
      "dtypes: float64(1), int64(3), object(11)\n",
      "memory usage: 5.2+ MB\n"
     ]
    }
   ],
   "source": [
    "test_data.info()"
   ]
  },
  {
   "cell_type": "markdown",
   "metadata": {},
   "source": [
    "### Identification des variables discrètes et continues"
   ]
  },
  {
   "cell_type": "markdown",
   "metadata": {},
   "source": [
    " - Variables continues: **Amount** et **Value**\n",
    " \n",
    " - Variables discrètes: Le reste des colonnes"
   ]
  },
  {
   "cell_type": "markdown",
   "metadata": {},
   "source": [
    "### Analyse Exploratoire des données"
   ]
  },
  {
   "cell_type": "code",
   "execution_count": 113,
   "metadata": {},
   "outputs": [
    {
     "name": "stdout",
     "output_type": "stream",
     "text": [
      "|   FraudResult |   proportion |\n",
      "|--------------:|-------------:|\n",
      "|             0 |   0.997982   |\n",
      "|             1 |   0.00201752 |\n"
     ]
    },
    {
     "data": {
      "image/png": "[encoded data removed]",
      "text/plain": [
       "<Figure size 640x480 with 1 Axes>"
      ]
     },
     "metadata": {},
     "output_type": "display_data"
    }
   ],
   "source": [
    "sns.countplot(train_data, x='FraudResult')\n",
    "plt.title(\"Représentation graphique de la variable target(FraudResult)\\n\")\n",
    "\n",
    "print(train_data['FraudResult'].value_counts(normalize=True).to_markdown())"
   ]
  },
  {
   "cell_type": "markdown",
   "metadata": {},
   "source": [
    "Nous constatons un déséquilibre de notre variable target. Nous avons plus d'exemple de cas de non fraude que de cas de fraude dans notre dataset.\n",
    "\n",
    " - **Prportion fraude**: **0.00201752**\n",
    "\n",
    " - **Proportion non fraude**: **0.997982**"
   ]
  },
  {
   "cell_type": "markdown",
   "metadata": {},
   "source": [
    "#### Analyse des variables continues"
   ]
  },
  {
   "cell_type": "code",
   "execution_count": 114,
   "metadata": {},
   "outputs": [
    {
     "data": {
      "text/plain": [
       "count    9.566200e+04\n",
       "mean     9.900584e+03\n",
       "std      1.231221e+05\n",
       "min      2.000000e+00\n",
       "25%      2.750000e+02\n",
       "50%      1.000000e+03\n",
       "75%      5.000000e+03\n",
       "max      9.880000e+06\n",
       "Name: Value, dtype: float64"
      ]
     },
     "execution_count": 114,
     "metadata": {},
     "output_type": "execute_result"
    }
   ],
   "source": [
    "train_data['Value'].describe()"
   ]
  },
  {
   "cell_type": "code",
   "execution_count": 115,
   "metadata": {},
   "outputs": [
    {
     "data": {
      "image/png": "[encoded data removed]",
      "text/plain": [
       "<Figure size 1200x600 with 1 Axes>"
      ]
     },
     "metadata": {},
     "output_type": "display_data"
    }
   ],
   "source": [
    "plt.figure(figsize=(12, 6))\n",
    "sns.boxplot(train_data, y='Value', x='ProductCategory')\n",
    "plt.yscale('log')"
   ]
  },
  {
   "cell_type": "markdown",
   "metadata": {},
   "source": [
    "#### Analyse des variables discrètes"
   ]
  },
  {
   "cell_type": "code",
   "execution_count": 116,
   "metadata": {},
   "outputs": [
    {
     "name": "stdout",
     "output_type": "stream",
     "text": [
      "| ProductCategory    |     0 |   1 |\n",
      "|:-------------------|------:|----:|\n",
      "| airtime            | 45009 |  18 |\n",
      "| data_bundles       |  1613 |   0 |\n",
      "| financial_services | 45244 | 161 |\n",
      "| movies             |   175 |   0 |\n",
      "| other              |     2 |   0 |\n",
      "| ticket             |   216 |   0 |\n",
      "| transport          |    23 |   2 |\n",
      "| tv                 |  1279 |   0 |\n",
      "| utility_bill       |  1908 |  12 |\n"
     ]
    },
    {
     "data": {
      "image/png": "[encoded data removed]",
      "text/plain": [
       "<Figure size 1300x600 with 1 Axes>"
      ]
     },
     "metadata": {},
     "output_type": "display_data"
    }
   ],
   "source": [
    "plt.figure(figsize=(13,6))\n",
    "sns.countplot(train_data, x='ProductCategory', orient='y', hue='FraudResult')\n",
    "\n",
    "counts = train_data.groupby(['ProductCategory', 'FraudResult']).size().unstack(fill_value=0)\n",
    "print(counts.to_markdown())"
   ]
  },
  {
   "cell_type": "markdown",
   "metadata": {},
   "source": [
    "##### ChanelId"
   ]
  },
  {
   "cell_type": "code",
   "execution_count": 117,
   "metadata": {},
   "outputs": [
    {
     "name": "stdout",
     "output_type": "stream",
     "text": [
      "| ChannelId   |   count |\n",
      "|:------------|--------:|\n",
      "| ChannelId_3 |   56935 |\n",
      "| ChannelId_2 |   37141 |\n",
      "| ChannelId_5 |    1048 |\n",
      "| ChannelId_1 |     538 |\n"
     ]
    }
   ],
   "source": [
    "print(train_data['ChannelId'].value_counts().to_markdown())"
   ]
  },
  {
   "cell_type": "markdown",
   "metadata": {},
   "source": [
    "##### PricingStrategy"
   ]
  },
  {
   "cell_type": "code",
   "execution_count": 118,
   "metadata": {},
   "outputs": [
    {
     "name": "stdout",
     "output_type": "stream",
     "text": [
      "|   PricingStrategy |   count |\n",
      "|------------------:|--------:|\n",
      "|                 2 |   79848 |\n",
      "|                 4 |   13562 |\n",
      "|                 1 |    1867 |\n",
      "|                 0 |     385 |\n"
     ]
    }
   ],
   "source": [
    "print(train_data['PricingStrategy'].value_counts().to_markdown())\n"
   ]
  },
  {
   "cell_type": "code",
   "execution_count": 119,
   "metadata": {},
   "outputs": [
    {
     "data": {
      "text/plain": [
       "<Axes: xlabel='PricingStrategy', ylabel='ProductCategory'>"
      ]
     },
     "execution_count": 119,
     "metadata": {},
     "output_type": "execute_result"
    },
    {
     "data": {
      "image/png": "[encoded data removed]",
      "text/plain": [
       "<Figure size 640x480 with 2 Axes>"
      ]
     },
     "metadata": {},
     "output_type": "display_data"
    }
   ],
   "source": [
    "sns.heatmap(pd.crosstab(train_data['ProductCategory'], train_data['PricingStrategy']), annot=True)"
   ]
  },
  {
   "cell_type": "code",
   "execution_count": 120,
   "metadata": {},
   "outputs": [
    {
     "data": {
      "text/plain": [
       "Index(['TransactionId', 'BatchId', 'AccountId', 'SubscriptionId', 'CustomerId',\n",
       "       'CurrencyCode', 'CountryCode', 'ProviderId', 'ProductId',\n",
       "       'ProductCategory', 'ChannelId', 'Amount', 'Value',\n",
       "       'TransactionStartTime', 'PricingStrategy', 'FraudResult'],\n",
       "      dtype='object')"
      ]
     },
     "execution_count": 120,
     "metadata": {},
     "output_type": "execute_result"
    }
   ],
   "source": [
    "train_data.columns"
   ]
  },
  {
   "cell_type": "markdown",
   "metadata": {},
   "source": [
    "### Feature Engineering"
   ]
  },
  {
   "cell_type": "code",
   "execution_count": 121,
   "metadata": {},
   "outputs": [],
   "source": [
    "# Extraction des dates\n",
    "def extract_datetime_features(df: pd.DataFrame, datetime_col: str):\n",
    "    \n",
    "    df[datetime_col] = pd.to_datetime(df[datetime_col], errors='coerce')\n",
    "    datetime_features = {\n",
    "        f'{datetime_col}_dow': df[datetime_col].dt.day_name(),\n",
    "        f'{datetime_col}_doy': df[datetime_col].dt.dayofyear,\n",
    "        f'{datetime_col}_dom': df[datetime_col].dt.day,\n",
    "        f'{datetime_col}_hr': df[datetime_col].dt.hour,\n",
    "        f'{datetime_col}_min': df[datetime_col].dt.minute,\n",
    "        f'{datetime_col}_is_wkd': df[datetime_col].dt.weekday >= 5,\n",
    "        f'{datetime_col}_yr': df[datetime_col].dt.year,\n",
    "        f'{datetime_col}_qtr': df[datetime_col].dt.quarter,\n",
    "        f'{datetime_col}_mth': df[datetime_col].dt.month\n",
    "    }\n",
    "    df.drop(columns=datetime_col, inplace=True)\n",
    "    return datetime_features\n",
    "    "
   ]
  },
  {
   "cell_type": "code",
   "execution_count": 122,
   "metadata": {},
   "outputs": [],
   "source": [
    "date_train_features = extract_datetime_features(train_data, 'TransactionStartTime')\n",
    "train_data = train_data.assign(**date_train_features)\n",
    "\n",
    "date_test_features = extract_datetime_features(test_data, 'TransactionStartTime')\n",
    "test_data = test_data.assign(**date_test_features)"
   ]
  },
  {
   "cell_type": "code",
   "execution_count": 123,
   "metadata": {},
   "outputs": [],
   "source": [
    "# Transformstion de la variable Amount\n",
    "train_data['Amount_type'] = train_data['Amount'].apply(lambda val: 0 if val< 0 else 1)\n",
    "test_data['Amount_type'] = test_data['Amount'].apply(lambda val: 0 if val< 0 else 1)"
   ]
  },
  {
   "cell_type": "markdown",
   "metadata": {},
   "source": [
    "**Colonnes à supprimer**:  'TransactionId', 'BatchId', 'CurrencyCode', 'CountryCode', 'Amount'"
   ]
  },
  {
   "cell_type": "code",
   "execution_count": 124,
   "metadata": {},
   "outputs": [
    {
     "data": {
      "text/html": [
       "<div>\n",
       "<style scoped>\n",
       "    .dataframe tbody tr th:only-of-type {\n",
       "        vertical-align: middle;\n",
       "    }\n",
       "\n",
       "    .dataframe tbody tr th {\n",
       "        vertical-align: top;\n",
       "    }\n",
       "\n",
       "    .dataframe thead th {\n",
       "        text-align: right;\n",
       "    }\n",
       "</style>\n",
       "<table border=\"1\" class=\"dataframe\">\n",
       "  <thead>\n",
       "    <tr style=\"text-align: right;\">\n",
       "      <th></th>\n",
       "      <th>AccountId</th>\n",
       "      <th>SubscriptionId</th>\n",
       "      <th>CustomerId</th>\n",
       "      <th>ProviderId</th>\n",
       "      <th>ProductId</th>\n",
       "      <th>ProductCategory</th>\n",
       "      <th>ChannelId</th>\n",
       "      <th>Value</th>\n",
       "      <th>PricingStrategy</th>\n",
       "      <th>FraudResult</th>\n",
       "      <th>TransactionStartTime_dow</th>\n",
       "      <th>TransactionStartTime_doy</th>\n",
       "      <th>TransactionStartTime_dom</th>\n",
       "      <th>TransactionStartTime_hr</th>\n",
       "      <th>TransactionStartTime_min</th>\n",
       "      <th>TransactionStartTime_is_wkd</th>\n",
       "      <th>TransactionStartTime_yr</th>\n",
       "      <th>TransactionStartTime_qtr</th>\n",
       "      <th>TransactionStartTime_mth</th>\n",
       "      <th>Amount_type</th>\n",
       "    </tr>\n",
       "  </thead>\n",
       "  <tbody>\n",
       "    <tr>\n",
       "      <th>0</th>\n",
       "      <td>AccountId_3957</td>\n",
       "      <td>SubscriptionId_887</td>\n",
       "      <td>CustomerId_4406</td>\n",
       "      <td>ProviderId_6</td>\n",
       "      <td>ProductId_10</td>\n",
       "      <td>airtime</td>\n",
       "      <td>ChannelId_3</td>\n",
       "      <td>1000</td>\n",
       "      <td>2</td>\n",
       "      <td>0</td>\n",
       "      <td>Thursday</td>\n",
       "      <td>319</td>\n",
       "      <td>15</td>\n",
       "      <td>2</td>\n",
       "      <td>18</td>\n",
       "      <td>False</td>\n",
       "      <td>2018</td>\n",
       "      <td>4</td>\n",
       "      <td>11</td>\n",
       "      <td>1</td>\n",
       "    </tr>\n",
       "    <tr>\n",
       "      <th>1</th>\n",
       "      <td>AccountId_4841</td>\n",
       "      <td>SubscriptionId_3829</td>\n",
       "      <td>CustomerId_4406</td>\n",
       "      <td>ProviderId_4</td>\n",
       "      <td>ProductId_6</td>\n",
       "      <td>financial_services</td>\n",
       "      <td>ChannelId_2</td>\n",
       "      <td>20</td>\n",
       "      <td>2</td>\n",
       "      <td>0</td>\n",
       "      <td>Thursday</td>\n",
       "      <td>319</td>\n",
       "      <td>15</td>\n",
       "      <td>2</td>\n",
       "      <td>19</td>\n",
       "      <td>False</td>\n",
       "      <td>2018</td>\n",
       "      <td>4</td>\n",
       "      <td>11</td>\n",
       "      <td>0</td>\n",
       "    </tr>\n",
       "    <tr>\n",
       "      <th>2</th>\n",
       "      <td>AccountId_4229</td>\n",
       "      <td>SubscriptionId_222</td>\n",
       "      <td>CustomerId_4683</td>\n",
       "      <td>ProviderId_6</td>\n",
       "      <td>ProductId_1</td>\n",
       "      <td>airtime</td>\n",
       "      <td>ChannelId_3</td>\n",
       "      <td>500</td>\n",
       "      <td>2</td>\n",
       "      <td>0</td>\n",
       "      <td>Thursday</td>\n",
       "      <td>319</td>\n",
       "      <td>15</td>\n",
       "      <td>2</td>\n",
       "      <td>44</td>\n",
       "      <td>False</td>\n",
       "      <td>2018</td>\n",
       "      <td>4</td>\n",
       "      <td>11</td>\n",
       "      <td>1</td>\n",
       "    </tr>\n",
       "    <tr>\n",
       "      <th>3</th>\n",
       "      <td>AccountId_648</td>\n",
       "      <td>SubscriptionId_2185</td>\n",
       "      <td>CustomerId_988</td>\n",
       "      <td>ProviderId_1</td>\n",
       "      <td>ProductId_21</td>\n",
       "      <td>utility_bill</td>\n",
       "      <td>ChannelId_3</td>\n",
       "      <td>21800</td>\n",
       "      <td>2</td>\n",
       "      <td>0</td>\n",
       "      <td>Thursday</td>\n",
       "      <td>319</td>\n",
       "      <td>15</td>\n",
       "      <td>3</td>\n",
       "      <td>32</td>\n",
       "      <td>False</td>\n",
       "      <td>2018</td>\n",
       "      <td>4</td>\n",
       "      <td>11</td>\n",
       "      <td>1</td>\n",
       "    </tr>\n",
       "    <tr>\n",
       "      <th>4</th>\n",
       "      <td>AccountId_4841</td>\n",
       "      <td>SubscriptionId_3829</td>\n",
       "      <td>CustomerId_988</td>\n",
       "      <td>ProviderId_4</td>\n",
       "      <td>ProductId_6</td>\n",
       "      <td>financial_services</td>\n",
       "      <td>ChannelId_2</td>\n",
       "      <td>644</td>\n",
       "      <td>2</td>\n",
       "      <td>0</td>\n",
       "      <td>Thursday</td>\n",
       "      <td>319</td>\n",
       "      <td>15</td>\n",
       "      <td>3</td>\n",
       "      <td>34</td>\n",
       "      <td>False</td>\n",
       "      <td>2018</td>\n",
       "      <td>4</td>\n",
       "      <td>11</td>\n",
       "      <td>0</td>\n",
       "    </tr>\n",
       "    <tr>\n",
       "      <th>...</th>\n",
       "      <td>...</td>\n",
       "      <td>...</td>\n",
       "      <td>...</td>\n",
       "      <td>...</td>\n",
       "      <td>...</td>\n",
       "      <td>...</td>\n",
       "      <td>...</td>\n",
       "      <td>...</td>\n",
       "      <td>...</td>\n",
       "      <td>...</td>\n",
       "      <td>...</td>\n",
       "      <td>...</td>\n",
       "      <td>...</td>\n",
       "      <td>...</td>\n",
       "      <td>...</td>\n",
       "      <td>...</td>\n",
       "      <td>...</td>\n",
       "      <td>...</td>\n",
       "      <td>...</td>\n",
       "      <td>...</td>\n",
       "    </tr>\n",
       "    <tr>\n",
       "      <th>95657</th>\n",
       "      <td>AccountId_4841</td>\n",
       "      <td>SubscriptionId_3829</td>\n",
       "      <td>CustomerId_3078</td>\n",
       "      <td>ProviderId_4</td>\n",
       "      <td>ProductId_6</td>\n",
       "      <td>financial_services</td>\n",
       "      <td>ChannelId_2</td>\n",
       "      <td>1000</td>\n",
       "      <td>2</td>\n",
       "      <td>0</td>\n",
       "      <td>Wednesday</td>\n",
       "      <td>44</td>\n",
       "      <td>13</td>\n",
       "      <td>9</td>\n",
       "      <td>54</td>\n",
       "      <td>False</td>\n",
       "      <td>2019</td>\n",
       "      <td>1</td>\n",
       "      <td>2</td>\n",
       "      <td>0</td>\n",
       "    </tr>\n",
       "    <tr>\n",
       "      <th>95658</th>\n",
       "      <td>AccountId_3439</td>\n",
       "      <td>SubscriptionId_2643</td>\n",
       "      <td>CustomerId_3874</td>\n",
       "      <td>ProviderId_6</td>\n",
       "      <td>ProductId_10</td>\n",
       "      <td>airtime</td>\n",
       "      <td>ChannelId_3</td>\n",
       "      <td>1000</td>\n",
       "      <td>2</td>\n",
       "      <td>0</td>\n",
       "      <td>Wednesday</td>\n",
       "      <td>44</td>\n",
       "      <td>13</td>\n",
       "      <td>9</td>\n",
       "      <td>54</td>\n",
       "      <td>False</td>\n",
       "      <td>2019</td>\n",
       "      <td>1</td>\n",
       "      <td>2</td>\n",
       "      <td>1</td>\n",
       "    </tr>\n",
       "    <tr>\n",
       "      <th>95659</th>\n",
       "      <td>AccountId_4841</td>\n",
       "      <td>SubscriptionId_3829</td>\n",
       "      <td>CustomerId_3874</td>\n",
       "      <td>ProviderId_4</td>\n",
       "      <td>ProductId_6</td>\n",
       "      <td>financial_services</td>\n",
       "      <td>ChannelId_2</td>\n",
       "      <td>20</td>\n",
       "      <td>2</td>\n",
       "      <td>0</td>\n",
       "      <td>Wednesday</td>\n",
       "      <td>44</td>\n",
       "      <td>13</td>\n",
       "      <td>9</td>\n",
       "      <td>54</td>\n",
       "      <td>False</td>\n",
       "      <td>2019</td>\n",
       "      <td>1</td>\n",
       "      <td>2</td>\n",
       "      <td>0</td>\n",
       "    </tr>\n",
       "    <tr>\n",
       "      <th>95660</th>\n",
       "      <td>AccountId_1346</td>\n",
       "      <td>SubscriptionId_652</td>\n",
       "      <td>CustomerId_1709</td>\n",
       "      <td>ProviderId_6</td>\n",
       "      <td>ProductId_19</td>\n",
       "      <td>tv</td>\n",
       "      <td>ChannelId_3</td>\n",
       "      <td>3000</td>\n",
       "      <td>2</td>\n",
       "      <td>0</td>\n",
       "      <td>Wednesday</td>\n",
       "      <td>44</td>\n",
       "      <td>13</td>\n",
       "      <td>10</td>\n",
       "      <td>1</td>\n",
       "      <td>False</td>\n",
       "      <td>2019</td>\n",
       "      <td>1</td>\n",
       "      <td>2</td>\n",
       "      <td>1</td>\n",
       "    </tr>\n",
       "    <tr>\n",
       "      <th>95661</th>\n",
       "      <td>AccountId_4841</td>\n",
       "      <td>SubscriptionId_3829</td>\n",
       "      <td>CustomerId_1709</td>\n",
       "      <td>ProviderId_4</td>\n",
       "      <td>ProductId_6</td>\n",
       "      <td>financial_services</td>\n",
       "      <td>ChannelId_2</td>\n",
       "      <td>60</td>\n",
       "      <td>2</td>\n",
       "      <td>0</td>\n",
       "      <td>Wednesday</td>\n",
       "      <td>44</td>\n",
       "      <td>13</td>\n",
       "      <td>10</td>\n",
       "      <td>1</td>\n",
       "      <td>False</td>\n",
       "      <td>2019</td>\n",
       "      <td>1</td>\n",
       "      <td>2</td>\n",
       "      <td>0</td>\n",
       "    </tr>\n",
       "  </tbody>\n",
       "</table>\n",
       "<p>95662 rows × 20 columns</p>\n",
       "</div>"
      ],
      "text/plain": [
       "            AccountId       SubscriptionId       CustomerId    ProviderId  \\\n",
       "0      AccountId_3957   SubscriptionId_887  CustomerId_4406  ProviderId_6   \n",
       "1      AccountId_4841  SubscriptionId_3829  CustomerId_4406  ProviderId_4   \n",
       "2      AccountId_4229   SubscriptionId_222  CustomerId_4683  ProviderId_6   \n",
       "3       AccountId_648  SubscriptionId_2185   CustomerId_988  ProviderId_1   \n",
       "4      AccountId_4841  SubscriptionId_3829   CustomerId_988  ProviderId_4   \n",
       "...               ...                  ...              ...           ...   \n",
       "95657  AccountId_4841  SubscriptionId_3829  CustomerId_3078  ProviderId_4   \n",
       "95658  AccountId_3439  SubscriptionId_2643  CustomerId_3874  ProviderId_6   \n",
       "95659  AccountId_4841  SubscriptionId_3829  CustomerId_3874  ProviderId_4   \n",
       "95660  AccountId_1346   SubscriptionId_652  CustomerId_1709  ProviderId_6   \n",
       "95661  AccountId_4841  SubscriptionId_3829  CustomerId_1709  ProviderId_4   \n",
       "\n",
       "          ProductId     ProductCategory    ChannelId  Value  PricingStrategy  \\\n",
       "0      ProductId_10             airtime  ChannelId_3   1000                2   \n",
       "1       ProductId_6  financial_services  ChannelId_2     20                2   \n",
       "2       ProductId_1             airtime  ChannelId_3    500                2   \n",
       "3      ProductId_21        utility_bill  ChannelId_3  21800                2   \n",
       "4       ProductId_6  financial_services  ChannelId_2    644                2   \n",
       "...             ...                 ...          ...    ...              ...   \n",
       "95657   ProductId_6  financial_services  ChannelId_2   1000                2   \n",
       "95658  ProductId_10             airtime  ChannelId_3   1000                2   \n",
       "95659   ProductId_6  financial_services  ChannelId_2     20                2   \n",
       "95660  ProductId_19                  tv  ChannelId_3   3000                2   \n",
       "95661   ProductId_6  financial_services  ChannelId_2     60                2   \n",
       "\n",
       "       FraudResult TransactionStartTime_dow  TransactionStartTime_doy  \\\n",
       "0                0                 Thursday                       319   \n",
       "1                0                 Thursday                       319   \n",
       "2                0                 Thursday                       319   \n",
       "3                0                 Thursday                       319   \n",
       "4                0                 Thursday                       319   \n",
       "...            ...                      ...                       ...   \n",
       "95657            0                Wednesday                        44   \n",
       "95658            0                Wednesday                        44   \n",
       "95659            0                Wednesday                        44   \n",
       "95660            0                Wednesday                        44   \n",
       "95661            0                Wednesday                        44   \n",
       "\n",
       "       TransactionStartTime_dom  TransactionStartTime_hr  \\\n",
       "0                            15                        2   \n",
       "1                            15                        2   \n",
       "2                            15                        2   \n",
       "3                            15                        3   \n",
       "4                            15                        3   \n",
       "...                         ...                      ...   \n",
       "95657                        13                        9   \n",
       "95658                        13                        9   \n",
       "95659                        13                        9   \n",
       "95660                        13                       10   \n",
       "95661                        13                       10   \n",
       "\n",
       "       TransactionStartTime_min  TransactionStartTime_is_wkd  \\\n",
       "0                            18                        False   \n",
       "1                            19                        False   \n",
       "2                            44                        False   \n",
       "3                            32                        False   \n",
       "4                            34                        False   \n",
       "...                         ...                          ...   \n",
       "95657                        54                        False   \n",
       "95658                        54                        False   \n",
       "95659                        54                        False   \n",
       "95660                         1                        False   \n",
       "95661                         1                        False   \n",
       "\n",
       "       TransactionStartTime_yr  TransactionStartTime_qtr  \\\n",
       "0                         2018                         4   \n",
       "1                         2018                         4   \n",
       "2                         2018                         4   \n",
       "3                         2018                         4   \n",
       "4                         2018                         4   \n",
       "...                        ...                       ...   \n",
       "95657                     2019                         1   \n",
       "95658                     2019                         1   \n",
       "95659                     2019                         1   \n",
       "95660                     2019                         1   \n",
       "95661                     2019                         1   \n",
       "\n",
       "       TransactionStartTime_mth  Amount_type  \n",
       "0                            11            1  \n",
       "1                            11            0  \n",
       "2                            11            1  \n",
       "3                            11            1  \n",
       "4                            11            0  \n",
       "...                         ...          ...  \n",
       "95657                         2            0  \n",
       "95658                         2            1  \n",
       "95659                         2            0  \n",
       "95660                         2            1  \n",
       "95661                         2            0  \n",
       "\n",
       "[95662 rows x 20 columns]"
      ]
     },
     "execution_count": 124,
     "metadata": {},
     "output_type": "execute_result"
    }
   ],
   "source": [
    "features_to_remove = ['TransactionId', 'BatchId', 'CurrencyCode', 'CountryCode', 'Amount']\n",
    "\n",
    "X_train = train_data.drop(columns=features_to_remove)\n",
    "X_test = test_data.drop(columns=features_to_remove) \n",
    "\n",
    "X_train"
   ]
  },
  {
   "cell_type": "markdown",
   "metadata": {},
   "source": [
    "#### Next Step Model"
   ]
  }
 ],
 "metadata": {
  "kernelspec": {
   "display_name": "titanic",
   "language": "python",
   "name": "python3"
  },
  "language_info": {
   "codemirror_mode": {
    "name": "ipython",
    "version": 3
   },
   "file_extension": ".py",
   "mimetype": "text/x-python",
   "name": "python",
   "nbconvert_exporter": "python",
   "pygments_lexer": "ipython3",
   "version": "3.12.7"
  }
 },
 "nbformat": 4,
 "nbformat_minor": 2
}
