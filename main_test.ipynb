{
  "cells": [
    {
      "cell_type": "markdown",
      "metadata": {
        "id": "kSkfpJt8l9TK"
      },
      "source": [
        "# GALSEN AI Fraud Detection Competition"
      ]
    },
    {
      "cell_type": "markdown",
      "metadata": {
        "id": "oz-Be05Ql9TM"
      },
      "source": [
        "### Importation des bibliothèques"
      ]
    },
    {
      "cell_type": "code",
      "execution_count": null,
      "metadata": {
        "id": "_Z3rmbBGl9TM"
      },
      "outputs": [],
      "source": [
        "# Bibliothèque pour analyse des données\n",
        "import pandas as pd\n",
        "import numpy as np\n",
        "import seaborn as sns\n",
        "import matplotlib.pyplot as plt\n",
        "\n",
        "\n",
        "# Bibliothèque pour le model\n",
        "from sklearn.preprocessing import LabelEncoder, OrdinalEncoder, StandardScaler, OneHotEncoder\n",
        "from sklearn.pipeline import Pipeline\n",
        "from sklearn.compose import make_column_transformer\n",
        "from sklearn.model_selection import train_test_split\n",
        "from sklearn.metrics import f1_score, recall_score, precision_score, accuracy_score\n",
        "from imblearn.ensemble import BalancedRandomForestClassifier"
      ]
    },
    {
      "cell_type": "code",
      "execution_count": 238,
      "metadata": {
        "colab": {
          "base_uri": "https://localhost:8080/"
        },
        "id": "BRLgEUkll9TN",
        "outputId": "9fc9e379-7c6d-44f2-c028-ca2168e25c15"
      },
      "outputs": [
        {
          "name": "stdout",
          "output_type": "stream",
          "text": [
            "Version de pandas: 2.2.2\n",
            "Version de numpy: 1.26.4\n",
            "Version de seaborn: 0.13.2\n"
          ]
        }
      ],
      "source": [
        "print(f\"Version de pandas: {pd.__version__}\")\n",
        "print(f\"Version de numpy: {np.__version__}\")\n",
        "print(f\"Version de seaborn: {sns.__version__}\")"
      ]
    },
    {
      "cell_type": "markdown",
      "metadata": {
        "id": "MSiTnXJ8l9TO"
      },
      "source": [
        "### Description des données"
      ]
    },
    {
      "cell_type": "code",
      "execution_count": 239,
      "metadata": {
        "colab": {
          "base_uri": "https://localhost:8080/"
        },
        "id": "YQt4a3lgl9TO",
        "outputId": "2ae33372-6c8c-4e04-ac41-ca0c4dd18533"
      },
      "outputs": [
        {
          "name": "stdout",
          "output_type": "stream",
          "text": [
            "|    | Column Name          | Definition                                                                                                        |\n",
            "|---:|:---------------------|:------------------------------------------------------------------------------------------------------------------|\n",
            "|  0 | TransactionId        | Unique �transaction identifier on platform                                                                        |\n",
            "|  1 | BatchId              | Unique number assigned to a batch of transactions for processing                                                  |\n",
            "|  2 | AccountId            | Unique number identifying the customer on platform                                                                |\n",
            "|  3 | SubscriptionId       | Unique number identifying the customer subscription                                                               |\n",
            "|  4 | CustomerId           | Unique identifier attached to Account                                                                             |\n",
            "|  5 | CurrencyCode         | Country currency                                                                                                  |\n",
            "|  6 | CountryCode          | Numerical geographical code of country                                                                            |\n",
            "|  7 | ProviderId           | Source provider of Item �bought.                                                                                  |\n",
            "|  8 | ProductId            | Item name being bought.                                                                                           |\n",
            "|  9 | ProductCategory      | ProductIds are organized into these broader product categories.                                                   |\n",
            "| 10 | ChannelId            | Identifies if customer used web,Android, IOS, pay later or checkout.                                              |\n",
            "| 11 | Amount               | Value of the transaction. Positive for debits from customer account and negative for credit into customer account |\n",
            "| 12 | Value                | Absolute value of the amount                                                                                      |\n",
            "| 13 | TransactionStartTime | Transaction start time                                                                                            |\n",
            "| 14 | PricingStrategy      | Category of Xente's pricing structure for merchants                                                               |\n",
            "| 15 | FraudResult          | Fraud status of transaction 1 -yes or 0-No                                                                        |\n"
          ]
        }
      ],
      "source": [
        "data_des = pd.read_csv('data/Xente_Variable_Definitions.csv')\n",
        "\n",
        "print(data_des.to_markdown())"
      ]
    },
    {
      "cell_type": "markdown",
      "metadata": {
        "id": "r3msi-EPl9TP"
      },
      "source": [
        "### Chargement des données"
      ]
    },
    {
      "cell_type": "code",
      "execution_count": 240,
      "metadata": {
        "colab": {
          "base_uri": "https://localhost:8080/",
          "height": 444
        },
        "id": "GLnSDhQXl9TP",
        "outputId": "be755954-accc-453c-b160-cd3b7182a19a"
      },
      "outputs": [
        {
          "data": {
            "text/html": [
              "<div>\n",
              "<style scoped>\n",
              "    .dataframe tbody tr th:only-of-type {\n",
              "        vertical-align: middle;\n",
              "    }\n",
              "\n",
              "    .dataframe tbody tr th {\n",
              "        vertical-align: top;\n",
              "    }\n",
              "\n",
              "    .dataframe thead th {\n",
              "        text-align: right;\n",
              "    }\n",
              "</style>\n",
              "<table border=\"1\" class=\"dataframe\">\n",
              "  <thead>\n",
              "    <tr style=\"text-align: right;\">\n",
              "      <th></th>\n",
              "      <th>TransactionId</th>\n",
              "      <th>BatchId</th>\n",
              "      <th>AccountId</th>\n",
              "      <th>SubscriptionId</th>\n",
              "      <th>CustomerId</th>\n",
              "      <th>CurrencyCode</th>\n",
              "      <th>CountryCode</th>\n",
              "      <th>ProviderId</th>\n",
              "      <th>ProductId</th>\n",
              "      <th>ProductCategory</th>\n",
              "      <th>ChannelId</th>\n",
              "      <th>Amount</th>\n",
              "      <th>Value</th>\n",
              "      <th>TransactionStartTime</th>\n",
              "      <th>PricingStrategy</th>\n",
              "      <th>FraudResult</th>\n",
              "    </tr>\n",
              "  </thead>\n",
              "  <tbody>\n",
              "    <tr>\n",
              "      <th>0</th>\n",
              "      <td>TransactionId_76871</td>\n",
              "      <td>BatchId_36123</td>\n",
              "      <td>AccountId_3957</td>\n",
              "      <td>SubscriptionId_887</td>\n",
              "      <td>CustomerId_4406</td>\n",
              "      <td>UGX</td>\n",
              "      <td>256</td>\n",
              "      <td>ProviderId_6</td>\n",
              "      <td>ProductId_10</td>\n",
              "      <td>airtime</td>\n",
              "      <td>ChannelId_3</td>\n",
              "      <td>1000.0</td>\n",
              "      <td>1000</td>\n",
              "      <td>2018-11-15T02:18:49Z</td>\n",
              "      <td>2</td>\n",
              "      <td>0</td>\n",
              "    </tr>\n",
              "    <tr>\n",
              "      <th>1</th>\n",
              "      <td>TransactionId_73770</td>\n",
              "      <td>BatchId_15642</td>\n",
              "      <td>AccountId_4841</td>\n",
              "      <td>SubscriptionId_3829</td>\n",
              "      <td>CustomerId_4406</td>\n",
              "      <td>UGX</td>\n",
              "      <td>256</td>\n",
              "      <td>ProviderId_4</td>\n",
              "      <td>ProductId_6</td>\n",
              "      <td>financial_services</td>\n",
              "      <td>ChannelId_2</td>\n",
              "      <td>-20.0</td>\n",
              "      <td>20</td>\n",
              "      <td>2018-11-15T02:19:08Z</td>\n",
              "      <td>2</td>\n",
              "      <td>0</td>\n",
              "    </tr>\n",
              "    <tr>\n",
              "      <th>2</th>\n",
              "      <td>TransactionId_26203</td>\n",
              "      <td>BatchId_53941</td>\n",
              "      <td>AccountId_4229</td>\n",
              "      <td>SubscriptionId_222</td>\n",
              "      <td>CustomerId_4683</td>\n",
              "      <td>UGX</td>\n",
              "      <td>256</td>\n",
              "      <td>ProviderId_6</td>\n",
              "      <td>ProductId_1</td>\n",
              "      <td>airtime</td>\n",
              "      <td>ChannelId_3</td>\n",
              "      <td>500.0</td>\n",
              "      <td>500</td>\n",
              "      <td>2018-11-15T02:44:21Z</td>\n",
              "      <td>2</td>\n",
              "      <td>0</td>\n",
              "    </tr>\n",
              "    <tr>\n",
              "      <th>3</th>\n",
              "      <td>TransactionId_380</td>\n",
              "      <td>BatchId_102363</td>\n",
              "      <td>AccountId_648</td>\n",
              "      <td>SubscriptionId_2185</td>\n",
              "      <td>CustomerId_988</td>\n",
              "      <td>UGX</td>\n",
              "      <td>256</td>\n",
              "      <td>ProviderId_1</td>\n",
              "      <td>ProductId_21</td>\n",
              "      <td>utility_bill</td>\n",
              "      <td>ChannelId_3</td>\n",
              "      <td>20000.0</td>\n",
              "      <td>21800</td>\n",
              "      <td>2018-11-15T03:32:55Z</td>\n",
              "      <td>2</td>\n",
              "      <td>0</td>\n",
              "    </tr>\n",
              "    <tr>\n",
              "      <th>4</th>\n",
              "      <td>TransactionId_28195</td>\n",
              "      <td>BatchId_38780</td>\n",
              "      <td>AccountId_4841</td>\n",
              "      <td>SubscriptionId_3829</td>\n",
              "      <td>CustomerId_988</td>\n",
              "      <td>UGX</td>\n",
              "      <td>256</td>\n",
              "      <td>ProviderId_4</td>\n",
              "      <td>ProductId_6</td>\n",
              "      <td>financial_services</td>\n",
              "      <td>ChannelId_2</td>\n",
              "      <td>-644.0</td>\n",
              "      <td>644</td>\n",
              "      <td>2018-11-15T03:34:21Z</td>\n",
              "      <td>2</td>\n",
              "      <td>0</td>\n",
              "    </tr>\n",
              "    <tr>\n",
              "      <th>...</th>\n",
              "      <td>...</td>\n",
              "      <td>...</td>\n",
              "      <td>...</td>\n",
              "      <td>...</td>\n",
              "      <td>...</td>\n",
              "      <td>...</td>\n",
              "      <td>...</td>\n",
              "      <td>...</td>\n",
              "      <td>...</td>\n",
              "      <td>...</td>\n",
              "      <td>...</td>\n",
              "      <td>...</td>\n",
              "      <td>...</td>\n",
              "      <td>...</td>\n",
              "      <td>...</td>\n",
              "      <td>...</td>\n",
              "    </tr>\n",
              "    <tr>\n",
              "      <th>95657</th>\n",
              "      <td>TransactionId_89881</td>\n",
              "      <td>BatchId_96668</td>\n",
              "      <td>AccountId_4841</td>\n",
              "      <td>SubscriptionId_3829</td>\n",
              "      <td>CustomerId_3078</td>\n",
              "      <td>UGX</td>\n",
              "      <td>256</td>\n",
              "      <td>ProviderId_4</td>\n",
              "      <td>ProductId_6</td>\n",
              "      <td>financial_services</td>\n",
              "      <td>ChannelId_2</td>\n",
              "      <td>-1000.0</td>\n",
              "      <td>1000</td>\n",
              "      <td>2019-02-13T09:54:09Z</td>\n",
              "      <td>2</td>\n",
              "      <td>0</td>\n",
              "    </tr>\n",
              "    <tr>\n",
              "      <th>95658</th>\n",
              "      <td>TransactionId_91597</td>\n",
              "      <td>BatchId_3503</td>\n",
              "      <td>AccountId_3439</td>\n",
              "      <td>SubscriptionId_2643</td>\n",
              "      <td>CustomerId_3874</td>\n",
              "      <td>UGX</td>\n",
              "      <td>256</td>\n",
              "      <td>ProviderId_6</td>\n",
              "      <td>ProductId_10</td>\n",
              "      <td>airtime</td>\n",
              "      <td>ChannelId_3</td>\n",
              "      <td>1000.0</td>\n",
              "      <td>1000</td>\n",
              "      <td>2019-02-13T09:54:25Z</td>\n",
              "      <td>2</td>\n",
              "      <td>0</td>\n",
              "    </tr>\n",
              "    <tr>\n",
              "      <th>95659</th>\n",
              "      <td>TransactionId_82501</td>\n",
              "      <td>BatchId_118602</td>\n",
              "      <td>AccountId_4841</td>\n",
              "      <td>SubscriptionId_3829</td>\n",
              "      <td>CustomerId_3874</td>\n",
              "      <td>UGX</td>\n",
              "      <td>256</td>\n",
              "      <td>ProviderId_4</td>\n",
              "      <td>ProductId_6</td>\n",
              "      <td>financial_services</td>\n",
              "      <td>ChannelId_2</td>\n",
              "      <td>-20.0</td>\n",
              "      <td>20</td>\n",
              "      <td>2019-02-13T09:54:35Z</td>\n",
              "      <td>2</td>\n",
              "      <td>0</td>\n",
              "    </tr>\n",
              "    <tr>\n",
              "      <th>95660</th>\n",
              "      <td>TransactionId_136354</td>\n",
              "      <td>BatchId_70924</td>\n",
              "      <td>AccountId_1346</td>\n",
              "      <td>SubscriptionId_652</td>\n",
              "      <td>CustomerId_1709</td>\n",
              "      <td>UGX</td>\n",
              "      <td>256</td>\n",
              "      <td>ProviderId_6</td>\n",
              "      <td>ProductId_19</td>\n",
              "      <td>tv</td>\n",
              "      <td>ChannelId_3</td>\n",
              "      <td>3000.0</td>\n",
              "      <td>3000</td>\n",
              "      <td>2019-02-13T10:01:10Z</td>\n",
              "      <td>2</td>\n",
              "      <td>0</td>\n",
              "    </tr>\n",
              "    <tr>\n",
              "      <th>95661</th>\n",
              "      <td>TransactionId_35670</td>\n",
              "      <td>BatchId_29317</td>\n",
              "      <td>AccountId_4841</td>\n",
              "      <td>SubscriptionId_3829</td>\n",
              "      <td>CustomerId_1709</td>\n",
              "      <td>UGX</td>\n",
              "      <td>256</td>\n",
              "      <td>ProviderId_4</td>\n",
              "      <td>ProductId_6</td>\n",
              "      <td>financial_services</td>\n",
              "      <td>ChannelId_2</td>\n",
              "      <td>-60.0</td>\n",
              "      <td>60</td>\n",
              "      <td>2019-02-13T10:01:28Z</td>\n",
              "      <td>2</td>\n",
              "      <td>0</td>\n",
              "    </tr>\n",
              "  </tbody>\n",
              "</table>\n",
              "<p>95662 rows × 16 columns</p>\n",
              "</div>"
            ],
            "text/plain": [
              "              TransactionId         BatchId  ... PricingStrategy FraudResult\n",
              "0       TransactionId_76871   BatchId_36123  ...               2           0\n",
              "1       TransactionId_73770   BatchId_15642  ...               2           0\n",
              "2       TransactionId_26203   BatchId_53941  ...               2           0\n",
              "3         TransactionId_380  BatchId_102363  ...               2           0\n",
              "4       TransactionId_28195   BatchId_38780  ...               2           0\n",
              "...                     ...             ...  ...             ...         ...\n",
              "95657   TransactionId_89881   BatchId_96668  ...               2           0\n",
              "95658   TransactionId_91597    BatchId_3503  ...               2           0\n",
              "95659   TransactionId_82501  BatchId_118602  ...               2           0\n",
              "95660  TransactionId_136354   BatchId_70924  ...               2           0\n",
              "95661   TransactionId_35670   BatchId_29317  ...               2           0\n",
              "\n",
              "[95662 rows x 16 columns]"
            ]
          },
          "execution_count": 240,
          "metadata": {},
          "output_type": "execute_result"
        }
      ],
      "source": [
        "TRAIN_PATH = 'data/training.csv'\n",
        "TEST_PATH = 'data/test.csv'\n",
        "\n",
        "train_data = pd.read_csv(TRAIN_PATH)\n",
        "test_data = pd.read_csv(TEST_PATH)\n",
        "\n",
        "Test_TransactionId = test_data['TransactionId']\n",
        "\n",
        "train_data"
      ]
    },
    {
      "cell_type": "code",
      "execution_count": 241,
      "metadata": {
        "colab": {
          "base_uri": "https://localhost:8080/"
        },
        "id": "0sxSEd0nl9TP",
        "outputId": "2c31a748-b143-4221-ebe5-5812d5f13fb5"
      },
      "outputs": [
        {
          "name": "stdout",
          "output_type": "stream",
          "text": [
            "<class 'pandas.core.frame.DataFrame'>\n",
            "RangeIndex: 95662 entries, 0 to 95661\n",
            "Data columns (total 16 columns):\n",
            " #   Column                Non-Null Count  Dtype  \n",
            "---  ------                --------------  -----  \n",
            " 0   TransactionId         95662 non-null  object \n",
            " 1   BatchId               95662 non-null  object \n",
            " 2   AccountId             95662 non-null  object \n",
            " 3   SubscriptionId        95662 non-null  object \n",
            " 4   CustomerId            95662 non-null  object \n",
            " 5   CurrencyCode          95662 non-null  object \n",
            " 6   CountryCode           95662 non-null  int64  \n",
            " 7   ProviderId            95662 non-null  object \n",
            " 8   ProductId             95662 non-null  object \n",
            " 9   ProductCategory       95662 non-null  object \n",
            " 10  ChannelId             95662 non-null  object \n",
            " 11  Amount                95662 non-null  float64\n",
            " 12  Value                 95662 non-null  int64  \n",
            " 13  TransactionStartTime  95662 non-null  object \n",
            " 14  PricingStrategy       95662 non-null  int64  \n",
            " 15  FraudResult           95662 non-null  int64  \n",
            "dtypes: float64(1), int64(4), object(11)\n",
            "memory usage: 11.7+ MB\n"
          ]
        }
      ],
      "source": [
        "train_data.info()"
      ]
    },
    {
      "cell_type": "code",
      "execution_count": 242,
      "metadata": {
        "colab": {
          "base_uri": "https://localhost:8080/"
        },
        "id": "WS7haIh7l9TP",
        "outputId": "567ee3ac-7cd3-4d6b-ab4e-5c7bce8a1232"
      },
      "outputs": [
        {
          "name": "stdout",
          "output_type": "stream",
          "text": [
            "<class 'pandas.core.frame.DataFrame'>\n",
            "RangeIndex: 45019 entries, 0 to 45018\n",
            "Data columns (total 15 columns):\n",
            " #   Column                Non-Null Count  Dtype  \n",
            "---  ------                --------------  -----  \n",
            " 0   TransactionId         45019 non-null  object \n",
            " 1   BatchId               45019 non-null  object \n",
            " 2   AccountId             45019 non-null  object \n",
            " 3   SubscriptionId        45019 non-null  object \n",
            " 4   CustomerId            45019 non-null  object \n",
            " 5   CurrencyCode          45019 non-null  object \n",
            " 6   CountryCode           45019 non-null  int64  \n",
            " 7   ProviderId            45019 non-null  object \n",
            " 8   ProductId             45019 non-null  object \n",
            " 9   ProductCategory       45019 non-null  object \n",
            " 10  ChannelId             45019 non-null  object \n",
            " 11  Amount                45019 non-null  float64\n",
            " 12  Value                 45019 non-null  int64  \n",
            " 13  TransactionStartTime  45019 non-null  object \n",
            " 14  PricingStrategy       45019 non-null  int64  \n",
            "dtypes: float64(1), int64(3), object(11)\n",
            "memory usage: 5.2+ MB\n"
          ]
        }
      ],
      "source": [
        "test_data.info()"
      ]
    },
    {
      "cell_type": "markdown",
      "metadata": {
        "id": "z_G09v2Hl9TQ"
      },
      "source": [
        "### Identification des variables discrètes et continues"
      ]
    },
    {
      "cell_type": "markdown",
      "metadata": {
        "id": "rmsL3eUvl9TQ"
      },
      "source": [
        " - Variables continues: **Amount** et **Value**\n",
        "\n",
        " - Variables discrètes: Le reste des colonnes"
      ]
    },
    {
      "cell_type": "markdown",
      "metadata": {
        "id": "rlNHop3Il9TQ"
      },
      "source": [
        "### Analyse Exploratoire des données"
      ]
    },
    {
      "cell_type": "code",
      "execution_count": 243,
      "metadata": {
        "colab": {
          "base_uri": "https://localhost:8080/",
          "height": 562
        },
        "id": "9U056eRXl9TQ",
        "outputId": "47c501f4-1241-4191-b30d-ac0652fb6269"
      },
      "outputs": [
        {
          "name": "stdout",
          "output_type": "stream",
          "text": [
            "|   FraudResult |   count |\n",
            "|--------------:|--------:|\n",
            "|             0 |   95469 |\n",
            "|             1 |     193 |\n"
          ]
        },
        {
          "data": {
            "image/png": "[encoded data removed]",
            "text/plain": [
              "<Figure size 640x480 with 1 Axes>"
            ]
          },
          "metadata": {},
          "output_type": "display_data"
        }
      ],
      "source": [
        "sns.countplot(train_data, x='FraudResult')\n",
        "plt.title(\"Représentation graphique de la variable target(FraudResult)\\n\")\n",
        "\n",
        "print(train_data['FraudResult'].value_counts(normalize=False).to_markdown())"
      ]
    },
    {
      "cell_type": "markdown",
      "metadata": {
        "id": "AdUagY-dl9TR"
      },
      "source": [
        "Nous constatons un déséquilibre de notre variable target. Nous avons plus d'exemple de cas de non fraude que de cas de fraude dans notre dataset.\n",
        "\n",
        " - **Prportion fraude**: *0.00201752*\n",
        "\n",
        " - **Proportion non fraude**: *0.997982*"
      ]
    },
    {
      "cell_type": "markdown",
      "metadata": {
        "id": "pz1P_9-Wl9TR"
      },
      "source": [
        "#### Analyse des variables continues"
      ]
    },
    {
      "cell_type": "code",
      "execution_count": 244,
      "metadata": {
        "colab": {
          "base_uri": "https://localhost:8080/",
          "height": 335
        },
        "id": "cUYNPkyal9TR",
        "outputId": "575a5a36-a5ce-4480-895a-69ffc1cd0094"
      },
      "outputs": [
        {
          "data": {
            "text/plain": [
              "count    9.566200e+04\n",
              "mean     9.900584e+03\n",
              "std      1.231221e+05\n",
              "min      2.000000e+00\n",
              "25%      2.750000e+02\n",
              "50%      1.000000e+03\n",
              "75%      5.000000e+03\n",
              "max      9.880000e+06\n",
              "Name: Value, dtype: float64"
            ]
          },
          "execution_count": 244,
          "metadata": {},
          "output_type": "execute_result"
        }
      ],
      "source": [
        "train_data['Value'].describe()"
      ]
    },
    {
      "cell_type": "code",
      "execution_count": 245,
      "metadata": {
        "colab": {
          "base_uri": "https://localhost:8080/",
          "height": 493
        },
        "id": "Quh1ov0Jl9TR",
        "outputId": "4abf5053-a5e4-44ac-e588-610bcfb72392"
      },
      "outputs": [
        {
          "data": {
            "image/png": "[encoded data removed]",
            "text/plain": [
              "<Figure size 1200x600 with 1 Axes>"
            ]
          },
          "metadata": {},
          "output_type": "display_data"
        }
      ],
      "source": [
        "plt.figure(figsize=(12, 6))\n",
        "sns.boxplot(train_data, y='Value', x='ProductCategory')\n",
        "plt.yscale('log')"
      ]
    },
    {
      "cell_type": "markdown",
      "metadata": {
        "id": "-8S52b0Dl9TR"
      },
      "source": [
        "#### Analyse des variables discrètes"
      ]
    },
    {
      "cell_type": "code",
      "execution_count": 246,
      "metadata": {
        "id": "WGx-PZQvl9TR"
      },
      "outputs": [],
      "source": [
        "# train_data['AccountId'].unique().shape = 3633\n",
        "# train_data['SubscriptionId'].unique().shape = 3627\n",
        "# train_data['CustomerId'].unique().shape = 3742\n",
        "# train_data['ProviderId'].unique().shape = 6\n",
        "# train_data['ProductId'].unique().shape = 23"
      ]
    },
    {
      "cell_type": "code",
      "execution_count": 247,
      "metadata": {
        "id": "Oz7lccrvl9TS"
      },
      "outputs": [],
      "source": [
        "def show_feature_details(df: pd.DataFrame, feature: str, target: str):\n",
        "    \"\"\"\n",
        "    Cette fonction permet de compter et d'afficher les categories d'une variable discrète et leur relation avec la target.\n",
        "    \"\"\"\n",
        "\n",
        "    feature_count = df[feature].value_counts().rename('Total')\n",
        "    fraud_count = df.groupby([feature, target]).size().unstack(fill_value=0)\n",
        "    result = fraud_count.join(feature_count)\n",
        "    result = pd.crosstab(df[feature], df[target], margins=True, margins_name='Total')\n",
        "\n",
        "    print(result.to_markdown())\n"
      ]
    },
    {
      "cell_type": "markdown",
      "metadata": {
        "id": "WPrfcNNPl9TS"
      },
      "source": [
        "##### ProductId"
      ]
    },
    {
      "cell_type": "code",
      "execution_count": 248,
      "metadata": {
        "colab": {
          "base_uri": "https://localhost:8080/"
        },
        "id": "yMlAJQdMl9TS",
        "outputId": "c43f6907-494d-4a27-c0e2-e92bccb0e6e6"
      },
      "outputs": [
        {
          "name": "stdout",
          "output_type": "stream",
          "text": [
            "| ProductId    |     0 |   1 |   Total |\n",
            "|:-------------|------:|----:|--------:|\n",
            "| ProductId_1  |  2885 |   0 |    2885 |\n",
            "| ProductId_10 | 15378 |   6 |   15384 |\n",
            "| ProductId_11 |  1377 |   0 |    1377 |\n",
            "| ProductId_12 |     2 |   0 |       2 |\n",
            "| ProductId_13 |   290 |   6 |     296 |\n",
            "| ProductId_14 |   789 |   0 |     789 |\n",
            "| ProductId_15 | 11807 | 157 |   11964 |\n",
            "| ProductId_16 |    10 |   0 |      10 |\n",
            "| ProductId_19 |   965 |   0 |     965 |\n",
            "| ProductId_2  |   236 |   0 |     236 |\n",
            "| ProductId_20 |   216 |   0 |     216 |\n",
            "| ProductId_21 |  1508 |   4 |    1512 |\n",
            "| ProductId_22 |   110 |   2 |     112 |\n",
            "| ProductId_23 |     1 |   0 |       1 |\n",
            "| ProductId_24 |   175 |   0 |     175 |\n",
            "| ProductId_27 |    31 |   0 |      31 |\n",
            "| ProductId_3  | 24332 |  12 |   24344 |\n",
            "| ProductId_4  |  2403 |   0 |    2403 |\n",
            "| ProductId_5  |    23 |   2 |      25 |\n",
            "| ProductId_6  | 32634 |   1 |   32635 |\n",
            "| ProductId_7  |    86 |   0 |      86 |\n",
            "| ProductId_8  |   197 |   0 |     197 |\n",
            "| ProductId_9  |    14 |   3 |      17 |\n",
            "| Total        | 95469 | 193 |   95662 |\n"
          ]
        }
      ],
      "source": [
        "show_feature_details(train_data, 'ProductId', 'FraudResult')"
      ]
    },
    {
      "cell_type": "markdown",
      "metadata": {
        "id": "VQ8YeHWll9TS"
      },
      "source": [
        "- Les produits: **ProductId_15**, **ProductId_3**, **ProductId_10**, **ProductId_13**, **ProductId_21**, **ProductId_9**, **ProductId_22**, **ProductId_5** et **ProductId_6** sont ceux liés à des cas de fraude avec respectivement *157*, *12*, *6*, *6*, *4*, *3*, *2*, *2* et *1* fraude(s).\n",
        "\n",
        "- La plupart des cas de fraudes sont liés au **produits_15**."
      ]
    },
    {
      "cell_type": "markdown",
      "metadata": {
        "id": "mfcLoqFZl9TS"
      },
      "source": [
        "##### ProductCategory"
      ]
    },
    {
      "cell_type": "code",
      "execution_count": 249,
      "metadata": {
        "colab": {
          "base_uri": "https://localhost:8080/",
          "height": 660
        },
        "id": "mkqlyB_9l9TS",
        "outputId": "25dee80c-4c8a-4db2-a58f-5f611f544eb2"
      },
      "outputs": [
        {
          "name": "stdout",
          "output_type": "stream",
          "text": [
            "| ProductCategory    |     0 |   1 |   Total |\n",
            "|:-------------------|------:|----:|--------:|\n",
            "| airtime            | 45009 |  18 |   45027 |\n",
            "| data_bundles       |  1613 |   0 |    1613 |\n",
            "| financial_services | 45244 | 161 |   45405 |\n",
            "| movies             |   175 |   0 |     175 |\n",
            "| other              |     2 |   0 |       2 |\n",
            "| ticket             |   216 |   0 |     216 |\n",
            "| transport          |    23 |   2 |      25 |\n",
            "| tv                 |  1279 |   0 |    1279 |\n",
            "| utility_bill       |  1908 |  12 |    1920 |\n",
            "| Total              | 95469 | 193 |   95662 |\n"
          ]
        },
        {
          "data": {
            "image/png": "[encoded data removed]",
            "text/plain": [
              "<Figure size 1300x600 with 1 Axes>"
            ]
          },
          "metadata": {},
          "output_type": "display_data"
        }
      ],
      "source": [
        "plt.figure(figsize=(13,6))\n",
        "sns.countplot(train_data, x='ProductCategory', orient='y', hue='FraudResult')\n",
        "\n",
        "show_feature_details(train_data, 'ProductCategory', 'FraudResult')"
      ]
    },
    {
      "cell_type": "markdown",
      "metadata": {
        "id": "pbOCoZo6l9TT"
      },
      "source": [
        "- Les cas de fraude sont enregistrés dans les catégories: *financial_services*, *airtime*, *utility_bill* et *transport*.\n",
        "\n",
        "- La plupart des cas de fraude sont liés à la catégorie **financial_services** qvec **161 fraudes** enregistrées:"
      ]
    },
    {
      "cell_type": "markdown",
      "metadata": {
        "id": "xaXwHBikl9TT"
      },
      "source": [
        "##### Relation entre ProductId et ProductCategory"
      ]
    },
    {
      "cell_type": "code",
      "execution_count": 250,
      "metadata": {
        "colab": {
          "base_uri": "https://localhost:8080/",
          "height": 668
        },
        "id": "i2EJIOa9l9TT",
        "outputId": "4639274c-4b29-4211-d1da-65da207f8d4d"
      },
      "outputs": [
        {
          "data": {
            "text/plain": [
              "<Axes: xlabel='ProductCategory', ylabel='ProductId'>"
            ]
          },
          "execution_count": 250,
          "metadata": {},
          "output_type": "execute_result"
        },
        {
          "data": {
            "image/png": "[encoded data removed]",
            "text/plain": [
              "<Figure size 900x600 with 2 Axes>"
            ]
          },
          "metadata": {},
          "output_type": "display_data"
        }
      ],
      "source": [
        "product_alalysis = pd.crosstab(train_data['ProductId'], train_data['ProductCategory'])\n",
        "plt.figure(figsize=(9,6))\n",
        "sns.heatmap(product_alalysis, annot=True)"
      ]
    },
    {
      "cell_type": "markdown",
      "metadata": {
        "id": "6mR21HeUl9TT"
      },
      "source": [
        "##### ChanelId"
      ]
    },
    {
      "cell_type": "code",
      "execution_count": 251,
      "metadata": {
        "colab": {
          "base_uri": "https://localhost:8080/"
        },
        "id": "AelkI5Unl9TT",
        "outputId": "13568323-ddea-47d9-fcc0-6b41512ec8af"
      },
      "outputs": [
        {
          "name": "stdout",
          "output_type": "stream",
          "text": [
            "| ChannelId   |     0 |   1 |   Total |\n",
            "|:------------|------:|----:|--------:|\n",
            "| ChannelId_1 |   534 |   4 |     538 |\n",
            "| ChannelId_2 | 37136 |   5 |   37141 |\n",
            "| ChannelId_3 | 56751 | 184 |   56935 |\n",
            "| ChannelId_5 |  1048 |   0 |    1048 |\n",
            "| Total       | 95469 | 193 |   95662 |\n"
          ]
        }
      ],
      "source": [
        "show_feature_details(train_data, 'ChannelId', 'FraudResult')"
      ]
    },
    {
      "cell_type": "markdown",
      "metadata": {
        "id": "rA86APzjl9TT"
      },
      "source": [
        "- Dans cette catégories seul les transactions faites sur le ***ChannelId_5*** ne présentent pas de fraude. La plupart des fraudes sont enregistrées dans le ***ChannelId_3***"
      ]
    },
    {
      "cell_type": "markdown",
      "metadata": {
        "id": "4kdLnzlDl9TU"
      },
      "source": [
        "##### PricingStrategy"
      ]
    },
    {
      "cell_type": "code",
      "execution_count": 252,
      "metadata": {
        "colab": {
          "base_uri": "https://localhost:8080/"
        },
        "id": "EWNl4fM8l9TU",
        "outputId": "144d968d-f013-4250-9b8f-fc12124b8b03"
      },
      "outputs": [
        {
          "name": "stdout",
          "output_type": "stream",
          "text": [
            "| PricingStrategy   |     0 |   1 |   Total |\n",
            "|:------------------|------:|----:|--------:|\n",
            "| 0                 |   349 |  36 |     385 |\n",
            "| 1                 |  1860 |   7 |    1867 |\n",
            "| 2                 | 79709 | 139 |   79848 |\n",
            "| 4                 | 13551 |  11 |   13562 |\n",
            "| Total             | 95469 | 193 |   95662 |\n"
          ]
        }
      ],
      "source": [
        "show_feature_details(train_data, 'PricingStrategy', 'FraudResult')"
      ]
    },
    {
      "cell_type": "markdown",
      "metadata": {
        "id": "tteTe_IOl9TU"
      },
      "source": [
        "##### Relation entre PricingStrategy et ProductCategory"
      ]
    },
    {
      "cell_type": "code",
      "execution_count": 253,
      "metadata": {
        "colab": {
          "base_uri": "https://localhost:8080/",
          "height": 466
        },
        "id": "EKQrUsFzl9TU",
        "outputId": "a0aee75a-6e12-45db-cfcf-dc944d9939fb"
      },
      "outputs": [
        {
          "data": {
            "text/plain": [
              "<Axes: xlabel='PricingStrategy', ylabel='ProductCategory'>"
            ]
          },
          "execution_count": 253,
          "metadata": {},
          "output_type": "execute_result"
        },
        {
          "data": {
            "image/png": "[encoded data removed]",
            "text/plain": [
              "<Figure size 640x480 with 2 Axes>"
            ]
          },
          "metadata": {},
          "output_type": "display_data"
        }
      ],
      "source": [
        "sns.heatmap(pd.crosstab(train_data['ProductCategory'], train_data['PricingStrategy']), annot=True)"
      ]
    },
    {
      "cell_type": "markdown",
      "metadata": {
        "id": "Lu6bTUvVl9TU"
      },
      "source": [
        "##### ProviderId"
      ]
    },
    {
      "cell_type": "code",
      "execution_count": 254,
      "metadata": {
        "colab": {
          "base_uri": "https://localhost:8080/"
        },
        "id": "d1Db4LUrl9TU",
        "outputId": "e014dc67-3cfe-4afd-c5d4-a28222640fa7"
      },
      "outputs": [
        {
          "name": "stdout",
          "output_type": "stream",
          "text": [
            "| ProviderId   |     0 |   1 |   Total |\n",
            "|:-------------|------:|----:|--------:|\n",
            "| ProviderId_1 |  5586 |  57 |    5643 |\n",
            "| ProviderId_2 |    18 |   0 |      18 |\n",
            "| ProviderId_3 |  3020 |  64 |    3084 |\n",
            "| ProviderId_4 | 38184 |   5 |   38189 |\n",
            "| ProviderId_5 | 14478 |  64 |   14542 |\n",
            "| ProviderId_6 | 34183 |   3 |   34186 |\n",
            "| Total        | 95469 | 193 |   95662 |\n"
          ]
        }
      ],
      "source": [
        "# train_data['ProviderId'].value_counts()\n",
        "show_feature_details(train_data, 'ProviderId', 'FraudResult')"
      ]
    },
    {
      "cell_type": "code",
      "execution_count": 255,
      "metadata": {
        "colab": {
          "base_uri": "https://localhost:8080/"
        },
        "id": "NmswDPSUl9TU",
        "outputId": "568709ae-b5e5-4911-bbb5-e743af482da0"
      },
      "outputs": [
        {
          "data": {
            "text/plain": [
              "Index(['TransactionId', 'BatchId', 'AccountId', 'SubscriptionId', 'CustomerId',\n",
              "       'CurrencyCode', 'CountryCode', 'ProviderId', 'ProductId',\n",
              "       'ProductCategory', 'ChannelId', 'Amount', 'Value',\n",
              "       'TransactionStartTime', 'PricingStrategy', 'FraudResult'],\n",
              "      dtype='object')"
            ]
          },
          "execution_count": 255,
          "metadata": {},
          "output_type": "execute_result"
        }
      ],
      "source": [
        "train_data.columns"
      ]
    },
    {
      "cell_type": "markdown",
      "metadata": {
        "id": "IrlemeApl9Tf"
      },
      "source": [
        "### Features Engineering"
      ]
    },
    {
      "cell_type": "markdown",
      "metadata": {
        "id": "QSeuAuUGl9Tf"
      },
      "source": [
        "##### Transformstion de la variable Amount"
      ]
    },
    {
      "cell_type": "code",
      "execution_count": 256,
      "metadata": {
        "id": "9T6urEyMl9Tf"
      },
      "outputs": [],
      "source": [
        "train_data['Amount_type'] = train_data['Amount'].apply(lambda val: 0 if val < 0 else 1)\n",
        "test_data['Amount_type'] = test_data['Amount'].apply(lambda val: 0 if val < 0 else 1)"
      ]
    },
    {
      "cell_type": "markdown",
      "metadata": {
        "id": "CXk8KWG5l9Tg"
      },
      "source": [
        "##### Extraction des dates"
      ]
    },
    {
      "cell_type": "code",
      "execution_count": 257,
      "metadata": {
        "id": "UynJUMfvl9Tg"
      },
      "outputs": [],
      "source": [
        "def extract_datetime_features(df: pd.DataFrame, datetime_col: str):\n",
        "\n",
        "    df[datetime_col] = pd.to_datetime(df[datetime_col], errors='coerce')\n",
        "    datetime_features = {\n",
        "        # f'{datetime_col}_dow': df[datetime_col].dt.day_name(),\n",
        "        f'{datetime_col}_doy': df[datetime_col].dt.dayofyear,\n",
        "        f'{datetime_col}_dom': df[datetime_col].dt.day,\n",
        "        # f'{datetime_col}_hr': df[datetime_col].dt.hour,\n",
        "        # f'{datetime_col}_min': df[datetime_col].dt.minute,\n",
        "        f'{datetime_col}_is_wkd': df[datetime_col].dt.weekday >= 5,\n",
        "        # f'{datetime_col}_yr': df[datetime_col].dt.year,\n",
        "        # f'{datetime_col}_qtr': df[datetime_col].dt.quarter,\n",
        "        # f'{datetime_col}_mth': df[datetime_col].dt.month\n",
        "    }\n",
        "    df.drop(columns=datetime_col, inplace=True)\n",
        "    return datetime_features\n"
      ]
    },
    {
      "cell_type": "code",
      "execution_count": 258,
      "metadata": {
        "id": "aejIJP6kl9Tg"
      },
      "outputs": [],
      "source": [
        "date_train_features = extract_datetime_features(train_data, 'TransactionStartTime')\n",
        "train_data = train_data.assign(**date_train_features)\n",
        "\n",
        "date_test_features = extract_datetime_features(test_data, 'TransactionStartTime')\n",
        "test_data = test_data.assign(**date_test_features)"
      ]
    },
    {
      "cell_type": "markdown",
      "metadata": {
        "id": "urM7W5-4l9Tg"
      },
      "source": [
        "**Colonnes à supprimer**:  'TransactionId', 'BatchId', 'CurrencyCode', 'CountryCode', 'Amount'"
      ]
    },
    {
      "cell_type": "code",
      "execution_count": 259,
      "metadata": {
        "colab": {
          "base_uri": "https://localhost:8080/",
          "height": 444
        },
        "id": "M7279LFCl9Tg",
        "outputId": "634161af-256c-4d57-90b5-d51e6effdbc1"
      },
      "outputs": [
        {
          "data": {
            "text/html": [
              "<div>\n",
              "<style scoped>\n",
              "    .dataframe tbody tr th:only-of-type {\n",
              "        vertical-align: middle;\n",
              "    }\n",
              "\n",
              "    .dataframe tbody tr th {\n",
              "        vertical-align: top;\n",
              "    }\n",
              "\n",
              "    .dataframe thead th {\n",
              "        text-align: right;\n",
              "    }\n",
              "</style>\n",
              "<table border=\"1\" class=\"dataframe\">\n",
              "  <thead>\n",
              "    <tr style=\"text-align: right;\">\n",
              "      <th></th>\n",
              "      <th>AccountId</th>\n",
              "      <th>SubscriptionId</th>\n",
              "      <th>CustomerId</th>\n",
              "      <th>ProviderId</th>\n",
              "      <th>ProductId</th>\n",
              "      <th>ProductCategory</th>\n",
              "      <th>ChannelId</th>\n",
              "      <th>Value</th>\n",
              "      <th>PricingStrategy</th>\n",
              "      <th>FraudResult</th>\n",
              "      <th>Amount_type</th>\n",
              "      <th>TransactionStartTime_doy</th>\n",
              "      <th>TransactionStartTime_dom</th>\n",
              "      <th>TransactionStartTime_is_wkd</th>\n",
              "    </tr>\n",
              "  </thead>\n",
              "  <tbody>\n",
              "    <tr>\n",
              "      <th>0</th>\n",
              "      <td>AccountId_3957</td>\n",
              "      <td>SubscriptionId_887</td>\n",
              "      <td>CustomerId_4406</td>\n",
              "      <td>ProviderId_6</td>\n",
              "      <td>ProductId_10</td>\n",
              "      <td>airtime</td>\n",
              "      <td>ChannelId_3</td>\n",
              "      <td>1000</td>\n",
              "      <td>2</td>\n",
              "      <td>0</td>\n",
              "      <td>1</td>\n",
              "      <td>319</td>\n",
              "      <td>15</td>\n",
              "      <td>False</td>\n",
              "    </tr>\n",
              "    <tr>\n",
              "      <th>1</th>\n",
              "      <td>AccountId_4841</td>\n",
              "      <td>SubscriptionId_3829</td>\n",
              "      <td>CustomerId_4406</td>\n",
              "      <td>ProviderId_4</td>\n",
              "      <td>ProductId_6</td>\n",
              "      <td>financial_services</td>\n",
              "      <td>ChannelId_2</td>\n",
              "      <td>20</td>\n",
              "      <td>2</td>\n",
              "      <td>0</td>\n",
              "      <td>0</td>\n",
              "      <td>319</td>\n",
              "      <td>15</td>\n",
              "      <td>False</td>\n",
              "    </tr>\n",
              "    <tr>\n",
              "      <th>2</th>\n",
              "      <td>AccountId_4229</td>\n",
              "      <td>SubscriptionId_222</td>\n",
              "      <td>CustomerId_4683</td>\n",
              "      <td>ProviderId_6</td>\n",
              "      <td>ProductId_1</td>\n",
              "      <td>airtime</td>\n",
              "      <td>ChannelId_3</td>\n",
              "      <td>500</td>\n",
              "      <td>2</td>\n",
              "      <td>0</td>\n",
              "      <td>1</td>\n",
              "      <td>319</td>\n",
              "      <td>15</td>\n",
              "      <td>False</td>\n",
              "    </tr>\n",
              "    <tr>\n",
              "      <th>3</th>\n",
              "      <td>AccountId_648</td>\n",
              "      <td>SubscriptionId_2185</td>\n",
              "      <td>CustomerId_988</td>\n",
              "      <td>ProviderId_1</td>\n",
              "      <td>ProductId_21</td>\n",
              "      <td>utility_bill</td>\n",
              "      <td>ChannelId_3</td>\n",
              "      <td>21800</td>\n",
              "      <td>2</td>\n",
              "      <td>0</td>\n",
              "      <td>1</td>\n",
              "      <td>319</td>\n",
              "      <td>15</td>\n",
              "      <td>False</td>\n",
              "    </tr>\n",
              "    <tr>\n",
              "      <th>4</th>\n",
              "      <td>AccountId_4841</td>\n",
              "      <td>SubscriptionId_3829</td>\n",
              "      <td>CustomerId_988</td>\n",
              "      <td>ProviderId_4</td>\n",
              "      <td>ProductId_6</td>\n",
              "      <td>financial_services</td>\n",
              "      <td>ChannelId_2</td>\n",
              "      <td>644</td>\n",
              "      <td>2</td>\n",
              "      <td>0</td>\n",
              "      <td>0</td>\n",
              "      <td>319</td>\n",
              "      <td>15</td>\n",
              "      <td>False</td>\n",
              "    </tr>\n",
              "    <tr>\n",
              "      <th>...</th>\n",
              "      <td>...</td>\n",
              "      <td>...</td>\n",
              "      <td>...</td>\n",
              "      <td>...</td>\n",
              "      <td>...</td>\n",
              "      <td>...</td>\n",
              "      <td>...</td>\n",
              "      <td>...</td>\n",
              "      <td>...</td>\n",
              "      <td>...</td>\n",
              "      <td>...</td>\n",
              "      <td>...</td>\n",
              "      <td>...</td>\n",
              "      <td>...</td>\n",
              "    </tr>\n",
              "    <tr>\n",
              "      <th>95657</th>\n",
              "      <td>AccountId_4841</td>\n",
              "      <td>SubscriptionId_3829</td>\n",
              "      <td>CustomerId_3078</td>\n",
              "      <td>ProviderId_4</td>\n",
              "      <td>ProductId_6</td>\n",
              "      <td>financial_services</td>\n",
              "      <td>ChannelId_2</td>\n",
              "      <td>1000</td>\n",
              "      <td>2</td>\n",
              "      <td>0</td>\n",
              "      <td>0</td>\n",
              "      <td>44</td>\n",
              "      <td>13</td>\n",
              "      <td>False</td>\n",
              "    </tr>\n",
              "    <tr>\n",
              "      <th>95658</th>\n",
              "      <td>AccountId_3439</td>\n",
              "      <td>SubscriptionId_2643</td>\n",
              "      <td>CustomerId_3874</td>\n",
              "      <td>ProviderId_6</td>\n",
              "      <td>ProductId_10</td>\n",
              "      <td>airtime</td>\n",
              "      <td>ChannelId_3</td>\n",
              "      <td>1000</td>\n",
              "      <td>2</td>\n",
              "      <td>0</td>\n",
              "      <td>1</td>\n",
              "      <td>44</td>\n",
              "      <td>13</td>\n",
              "      <td>False</td>\n",
              "    </tr>\n",
              "    <tr>\n",
              "      <th>95659</th>\n",
              "      <td>AccountId_4841</td>\n",
              "      <td>SubscriptionId_3829</td>\n",
              "      <td>CustomerId_3874</td>\n",
              "      <td>ProviderId_4</td>\n",
              "      <td>ProductId_6</td>\n",
              "      <td>financial_services</td>\n",
              "      <td>ChannelId_2</td>\n",
              "      <td>20</td>\n",
              "      <td>2</td>\n",
              "      <td>0</td>\n",
              "      <td>0</td>\n",
              "      <td>44</td>\n",
              "      <td>13</td>\n",
              "      <td>False</td>\n",
              "    </tr>\n",
              "    <tr>\n",
              "      <th>95660</th>\n",
              "      <td>AccountId_1346</td>\n",
              "      <td>SubscriptionId_652</td>\n",
              "      <td>CustomerId_1709</td>\n",
              "      <td>ProviderId_6</td>\n",
              "      <td>ProductId_19</td>\n",
              "      <td>tv</td>\n",
              "      <td>ChannelId_3</td>\n",
              "      <td>3000</td>\n",
              "      <td>2</td>\n",
              "      <td>0</td>\n",
              "      <td>1</td>\n",
              "      <td>44</td>\n",
              "      <td>13</td>\n",
              "      <td>False</td>\n",
              "    </tr>\n",
              "    <tr>\n",
              "      <th>95661</th>\n",
              "      <td>AccountId_4841</td>\n",
              "      <td>SubscriptionId_3829</td>\n",
              "      <td>CustomerId_1709</td>\n",
              "      <td>ProviderId_4</td>\n",
              "      <td>ProductId_6</td>\n",
              "      <td>financial_services</td>\n",
              "      <td>ChannelId_2</td>\n",
              "      <td>60</td>\n",
              "      <td>2</td>\n",
              "      <td>0</td>\n",
              "      <td>0</td>\n",
              "      <td>44</td>\n",
              "      <td>13</td>\n",
              "      <td>False</td>\n",
              "    </tr>\n",
              "  </tbody>\n",
              "</table>\n",
              "<p>95662 rows × 14 columns</p>\n",
              "</div>"
            ],
            "text/plain": [
              "            AccountId  ... TransactionStartTime_is_wkd\n",
              "0      AccountId_3957  ...                       False\n",
              "1      AccountId_4841  ...                       False\n",
              "2      AccountId_4229  ...                       False\n",
              "3       AccountId_648  ...                       False\n",
              "4      AccountId_4841  ...                       False\n",
              "...               ...  ...                         ...\n",
              "95657  AccountId_4841  ...                       False\n",
              "95658  AccountId_3439  ...                       False\n",
              "95659  AccountId_4841  ...                       False\n",
              "95660  AccountId_1346  ...                       False\n",
              "95661  AccountId_4841  ...                       False\n",
              "\n",
              "[95662 rows x 14 columns]"
            ]
          },
          "execution_count": 259,
          "metadata": {},
          "output_type": "execute_result"
        }
      ],
      "source": [
        "features_to_remove = ['TransactionId', 'BatchId', 'CurrencyCode', 'CountryCode', 'Amount']\n",
        "\n",
        "X_train = train_data.drop(columns=features_to_remove)\n",
        "X_test = test_data.drop(columns=features_to_remove)\n",
        "\n",
        "X_train"
      ]
    },
    {
      "cell_type": "markdown",
      "metadata": {
        "id": "51KA1M6rl9Tg"
      },
      "source": [
        "### Développement du Model"
      ]
    },
    {
      "cell_type": "code",
      "execution_count": 260,
      "metadata": {
        "colab": {
          "base_uri": "https://localhost:8080/"
        },
        "id": "hdB3nXiil9Tg",
        "outputId": "3d87c905-8d7c-42b4-bdf3-fd4482691fdf"
      },
      "outputs": [],
      "source": [
        "# show_feature_details(train_data, 'TransactionStartTime_hr', 'FraudResult')"
      ]
    },
    {
      "cell_type": "markdown",
      "metadata": {
        "id": "2Kp_xflrl9Tg"
      },
      "source": [
        "colonnes à supprimer: 'TransactionStartTime_dow', 'TransactionStartTime_mth'"
      ]
    },
    {
      "cell_type": "markdown",
      "metadata": {},
      "source": [
        "##### Encodage des classes catégoricielle"
      ]
    },
    {
      "cell_type": "markdown",
      "metadata": {},
      "source": [
        " - **1ere Approche**"
      ]
    },
    {
      "cell_type": "code",
      "execution_count": 261,
      "metadata": {
        "id": "IOzM2rZKl9Tg"
      },
      "outputs": [],
      "source": [
        "# Colonnes à encoder\n",
        "# features_to_encode_1 = ['AccountId', 'SubscriptionId', 'CustomerId', 'ProviderId', 'ProductId', 'ProductCategory', 'ChannelId']\n",
        "\n",
        "# high_cardinality_features = ['ProviderId', 'ProductId']\n",
        "\n",
        "# low_cardinality_features = ['ProductCategory', 'ChannelId']\n"
      ]
    },
    {
      "cell_type": "code",
      "execution_count": 262,
      "metadata": {
        "id": "AZ6hfXPXqL6B"
      },
      "outputs": [],
      "source": [
        "# def frequency_encoding(df, column):\n",
        "#     freq = df[column].value_counts() / len(df)  # Calcul de la fréquence\n",
        "#     return df[column].map(freq)\n"
      ]
    },
    {
      "cell_type": "code",
      "execution_count": 263,
      "metadata": {
        "id": "ToW8ghb2qcPj"
      },
      "outputs": [],
      "source": [
        "# for col in ['AccountId', 'SubscriptionId', 'CustomerId']:\n",
        "#     X_train[col] = frequency_encoding(X_train, col)\n",
        "#     X_test[col] = frequency_encoding(X_test, col)"
      ]
    },
    {
      "cell_type": "code",
      "execution_count": 264,
      "metadata": {
        "id": "UmH63xvcqv4v"
      },
      "outputs": [],
      "source": [
        "# encoder = OrdinalEncoder(handle_unknown='use_encoded_value', unknown_value=-1)\n",
        "\n",
        "# X_train[low_cardinality_features] = encoder.fit_transform(X_train[low_cardinality_features])\n",
        "# X_test[low_cardinality_features] = encoder.transform(X_test[low_cardinality_features])"
      ]
    },
    {
      "cell_type": "markdown",
      "metadata": {},
      "source": [
        " - **2eme Approche**"
      ]
    },
    {
      "cell_type": "code",
      "execution_count": 265,
      "metadata": {},
      "outputs": [],
      "source": [
        "y = train_data['FraudResult']\n",
        "X_train.drop(columns=['FraudResult'], inplace=True)"
      ]
    },
    {
      "cell_type": "code",
      "execution_count": 266,
      "metadata": {},
      "outputs": [],
      "source": [
        "features_to_encode_2 = ['ProductId', 'ProductCategory', 'AccountId', 'SubscriptionId', 'CustomerId']\n",
        "\n",
        "dict_provider = {\n",
        "    'ProviderId_1': 1,\n",
        "    'ProviderId_2': 2,\n",
        "    'ProviderId_3': 3,\n",
        "    'ProviderId_4': 4,\n",
        "    'ProviderId_5': 5,\n",
        "    'ProviderId_6': 6,\n",
        "}\n",
        "\n",
        "X_train['ProviderId'] = X_train['ProviderId'].map(dict_provider)\n",
        "X_test['ProviderId'] = X_test['ProviderId'].map(dict_provider)\n",
        "\n",
        "\n",
        "dict_channel = {\n",
        "    'ChannelId_1': 1,\n",
        "    'ChannelId_2': 2,\n",
        "    'ChannelId_3': 3,\n",
        "    'ChannelId_4': 4,\n",
        "    'ChannelId_5': 5,\n",
        "}\n",
        "\n",
        "X_train['ChannelId'] = X_train['ChannelId'].map(dict_channel)\n",
        "X_test['ChannelId'] = X_test['ChannelId'].map(dict_channel)"
      ]
    },
    {
      "cell_type": "code",
      "execution_count": 267,
      "metadata": {},
      "outputs": [],
      "source": [
        "from category_encoders.count import CountEncoder\n",
        "\n",
        "enc = CountEncoder(cols = features_to_encode_2).fit(X_train)\n",
        "X_train = enc.transform(X_train)\n",
        "X_test = enc.transform(X_test)"
      ]
    },
    {
      "cell_type": "code",
      "execution_count": 268,
      "metadata": {
        "colab": {
          "base_uri": "https://localhost:8080/",
          "height": 226
        },
        "id": "izDwrtXUl9Tg",
        "outputId": "1c9e6598-57e2-4b83-a8d0-c44fc4109b72"
      },
      "outputs": [
        {
          "data": {
            "text/html": [
              "<div>\n",
              "<style scoped>\n",
              "    .dataframe tbody tr th:only-of-type {\n",
              "        vertical-align: middle;\n",
              "    }\n",
              "\n",
              "    .dataframe tbody tr th {\n",
              "        vertical-align: top;\n",
              "    }\n",
              "\n",
              "    .dataframe thead th {\n",
              "        text-align: right;\n",
              "    }\n",
              "</style>\n",
              "<table border=\"1\" class=\"dataframe\">\n",
              "  <thead>\n",
              "    <tr style=\"text-align: right;\">\n",
              "      <th></th>\n",
              "      <th>AccountId</th>\n",
              "      <th>SubscriptionId</th>\n",
              "      <th>ProviderId</th>\n",
              "      <th>ProductId</th>\n",
              "      <th>ProductCategory</th>\n",
              "      <th>ChannelId</th>\n",
              "      <th>Value</th>\n",
              "      <th>PricingStrategy</th>\n",
              "      <th>Amount_type</th>\n",
              "      <th>TransactionStartTime_doy</th>\n",
              "      <th>TransactionStartTime_dom</th>\n",
              "      <th>TransactionStartTime_is_wkd</th>\n",
              "    </tr>\n",
              "  </thead>\n",
              "  <tbody>\n",
              "    <tr>\n",
              "      <th>0</th>\n",
              "      <td>66</td>\n",
              "      <td>66</td>\n",
              "      <td>6</td>\n",
              "      <td>15384</td>\n",
              "      <td>45027</td>\n",
              "      <td>3</td>\n",
              "      <td>1000</td>\n",
              "      <td>2</td>\n",
              "      <td>1</td>\n",
              "      <td>319</td>\n",
              "      <td>15</td>\n",
              "      <td>False</td>\n",
              "    </tr>\n",
              "    <tr>\n",
              "      <th>1</th>\n",
              "      <td>30893</td>\n",
              "      <td>32630</td>\n",
              "      <td>4</td>\n",
              "      <td>32635</td>\n",
              "      <td>45405</td>\n",
              "      <td>2</td>\n",
              "      <td>20</td>\n",
              "      <td>2</td>\n",
              "      <td>0</td>\n",
              "      <td>319</td>\n",
              "      <td>15</td>\n",
              "      <td>False</td>\n",
              "    </tr>\n",
              "    <tr>\n",
              "      <th>2</th>\n",
              "      <td>2</td>\n",
              "      <td>2</td>\n",
              "      <td>6</td>\n",
              "      <td>2885</td>\n",
              "      <td>45027</td>\n",
              "      <td>3</td>\n",
              "      <td>500</td>\n",
              "      <td>2</td>\n",
              "      <td>1</td>\n",
              "      <td>319</td>\n",
              "      <td>15</td>\n",
              "      <td>False</td>\n",
              "    </tr>\n",
              "    <tr>\n",
              "      <th>3</th>\n",
              "      <td>26</td>\n",
              "      <td>26</td>\n",
              "      <td>1</td>\n",
              "      <td>1512</td>\n",
              "      <td>1920</td>\n",
              "      <td>3</td>\n",
              "      <td>21800</td>\n",
              "      <td>2</td>\n",
              "      <td>1</td>\n",
              "      <td>319</td>\n",
              "      <td>15</td>\n",
              "      <td>False</td>\n",
              "    </tr>\n",
              "    <tr>\n",
              "      <th>4</th>\n",
              "      <td>30893</td>\n",
              "      <td>32630</td>\n",
              "      <td>4</td>\n",
              "      <td>32635</td>\n",
              "      <td>45405</td>\n",
              "      <td>2</td>\n",
              "      <td>644</td>\n",
              "      <td>2</td>\n",
              "      <td>0</td>\n",
              "      <td>319</td>\n",
              "      <td>15</td>\n",
              "      <td>False</td>\n",
              "    </tr>\n",
              "    <tr>\n",
              "      <th>...</th>\n",
              "      <td>...</td>\n",
              "      <td>...</td>\n",
              "      <td>...</td>\n",
              "      <td>...</td>\n",
              "      <td>...</td>\n",
              "      <td>...</td>\n",
              "      <td>...</td>\n",
              "      <td>...</td>\n",
              "      <td>...</td>\n",
              "      <td>...</td>\n",
              "      <td>...</td>\n",
              "      <td>...</td>\n",
              "    </tr>\n",
              "    <tr>\n",
              "      <th>95657</th>\n",
              "      <td>30893</td>\n",
              "      <td>32630</td>\n",
              "      <td>4</td>\n",
              "      <td>32635</td>\n",
              "      <td>45405</td>\n",
              "      <td>2</td>\n",
              "      <td>1000</td>\n",
              "      <td>2</td>\n",
              "      <td>0</td>\n",
              "      <td>44</td>\n",
              "      <td>13</td>\n",
              "      <td>False</td>\n",
              "    </tr>\n",
              "    <tr>\n",
              "      <th>95658</th>\n",
              "      <td>27</td>\n",
              "      <td>27</td>\n",
              "      <td>6</td>\n",
              "      <td>15384</td>\n",
              "      <td>45027</td>\n",
              "      <td>3</td>\n",
              "      <td>1000</td>\n",
              "      <td>2</td>\n",
              "      <td>1</td>\n",
              "      <td>44</td>\n",
              "      <td>13</td>\n",
              "      <td>False</td>\n",
              "    </tr>\n",
              "    <tr>\n",
              "      <th>95659</th>\n",
              "      <td>30893</td>\n",
              "      <td>32630</td>\n",
              "      <td>4</td>\n",
              "      <td>32635</td>\n",
              "      <td>45405</td>\n",
              "      <td>2</td>\n",
              "      <td>20</td>\n",
              "      <td>2</td>\n",
              "      <td>0</td>\n",
              "      <td>44</td>\n",
              "      <td>13</td>\n",
              "      <td>False</td>\n",
              "    </tr>\n",
              "    <tr>\n",
              "      <th>95660</th>\n",
              "      <td>350</td>\n",
              "      <td>350</td>\n",
              "      <td>6</td>\n",
              "      <td>965</td>\n",
              "      <td>1279</td>\n",
              "      <td>3</td>\n",
              "      <td>3000</td>\n",
              "      <td>2</td>\n",
              "      <td>1</td>\n",
              "      <td>44</td>\n",
              "      <td>13</td>\n",
              "      <td>False</td>\n",
              "    </tr>\n",
              "    <tr>\n",
              "      <th>95661</th>\n",
              "      <td>30893</td>\n",
              "      <td>32630</td>\n",
              "      <td>4</td>\n",
              "      <td>32635</td>\n",
              "      <td>45405</td>\n",
              "      <td>2</td>\n",
              "      <td>60</td>\n",
              "      <td>2</td>\n",
              "      <td>0</td>\n",
              "      <td>44</td>\n",
              "      <td>13</td>\n",
              "      <td>False</td>\n",
              "    </tr>\n",
              "  </tbody>\n",
              "</table>\n",
              "<p>95662 rows × 12 columns</p>\n",
              "</div>"
            ],
            "text/plain": [
              "       AccountId  ...  TransactionStartTime_is_wkd\n",
              "0             66  ...                        False\n",
              "1          30893  ...                        False\n",
              "2              2  ...                        False\n",
              "3             26  ...                        False\n",
              "4          30893  ...                        False\n",
              "...          ...  ...                          ...\n",
              "95657      30893  ...                        False\n",
              "95658         27  ...                        False\n",
              "95659      30893  ...                        False\n",
              "95660        350  ...                        False\n",
              "95661      30893  ...                        False\n",
              "\n",
              "[95662 rows x 12 columns]"
            ]
          },
          "execution_count": 268,
          "metadata": {},
          "output_type": "execute_result"
        }
      ],
      "source": [
        "# X_train = X_train.drop(columns=['AccountId', 'SubscriptionId', 'CustomerId'])\n",
        "# X_test = X_test.drop(columns=['AccountId', 'SubscriptionId', 'CustomerId'])\n",
        "\n",
        "rm_col = ['CustomerId']\n",
        "X_train = X_train.drop(columns=rm_col)\n",
        "X_test = X_test.drop(columns=rm_col)\n",
        "\n",
        "X_train"
      ]
    },
    {
      "cell_type": "code",
      "execution_count": 269,
      "metadata": {
        "id": "_6S2V-Bpl9Th"
      },
      "outputs": [],
      "source": [
        "# y = train_data['FraudResult']\n",
        "X = X_train\n",
        "# .drop(columns=['FraudResult'])\n",
        "\n",
        "X_tr, X_te, y_tr, y_te = train_test_split(X, y, test_size=0.2, random_state=43)"
      ]
    },
    {
      "cell_type": "markdown",
      "metadata": {},
      "source": [
        "##### Stardarisation de la colonne Value "
      ]
    },
    {
      "cell_type": "code",
      "execution_count": 270,
      "metadata": {},
      "outputs": [],
      "source": [
        "std_scaler = StandardScaler()\n",
        "\n",
        "X_tr['Value'] = std_scaler.fit_transform(X_tr[['Value']])\n",
        "X_te['Value'] = std_scaler.transform(X_te[['Value']])\n",
        "\n",
        "X_test['Value'] = std_scaler.transform(X_test[['Value']])"
      ]
    },
    {
      "cell_type": "code",
      "execution_count": 271,
      "metadata": {},
      "outputs": [
        {
          "data": {
            "text/html": [
              "<div>\n",
              "<style scoped>\n",
              "    .dataframe tbody tr th:only-of-type {\n",
              "        vertical-align: middle;\n",
              "    }\n",
              "\n",
              "    .dataframe tbody tr th {\n",
              "        vertical-align: top;\n",
              "    }\n",
              "\n",
              "    .dataframe thead th {\n",
              "        text-align: right;\n",
              "    }\n",
              "</style>\n",
              "<table border=\"1\" class=\"dataframe\">\n",
              "  <thead>\n",
              "    <tr style=\"text-align: right;\">\n",
              "      <th></th>\n",
              "      <th>AccountId</th>\n",
              "      <th>SubscriptionId</th>\n",
              "      <th>ProviderId</th>\n",
              "      <th>ProductId</th>\n",
              "      <th>ProductCategory</th>\n",
              "      <th>ChannelId</th>\n",
              "      <th>Value</th>\n",
              "      <th>PricingStrategy</th>\n",
              "      <th>Amount_type</th>\n",
              "      <th>TransactionStartTime_doy</th>\n",
              "      <th>TransactionStartTime_dom</th>\n",
              "      <th>TransactionStartTime_is_wkd</th>\n",
              "    </tr>\n",
              "  </thead>\n",
              "  <tbody>\n",
              "    <tr>\n",
              "      <th>53329</th>\n",
              "      <td>4457</td>\n",
              "      <td>4457</td>\n",
              "      <td>4</td>\n",
              "      <td>15384</td>\n",
              "      <td>45027</td>\n",
              "      <td>2</td>\n",
              "      <td>0.173760</td>\n",
              "      <td>4</td>\n",
              "      <td>0</td>\n",
              "      <td>8</td>\n",
              "      <td>8</td>\n",
              "      <td>False</td>\n",
              "    </tr>\n",
              "    <tr>\n",
              "      <th>60244</th>\n",
              "      <td>25</td>\n",
              "      <td>25</td>\n",
              "      <td>6</td>\n",
              "      <td>24344</td>\n",
              "      <td>45027</td>\n",
              "      <td>3</td>\n",
              "      <td>0.087835</td>\n",
              "      <td>2</td>\n",
              "      <td>1</td>\n",
              "      <td>14</td>\n",
              "      <td>14</td>\n",
              "      <td>False</td>\n",
              "    </tr>\n",
              "    <tr>\n",
              "      <th>88038</th>\n",
              "      <td>134</td>\n",
              "      <td>134</td>\n",
              "      <td>5</td>\n",
              "      <td>11964</td>\n",
              "      <td>45405</td>\n",
              "      <td>3</td>\n",
              "      <td>0.001909</td>\n",
              "      <td>2</td>\n",
              "      <td>1</td>\n",
              "      <td>38</td>\n",
              "      <td>7</td>\n",
              "      <td>False</td>\n",
              "    </tr>\n",
              "    <tr>\n",
              "      <th>35686</th>\n",
              "      <td>30893</td>\n",
              "      <td>32630</td>\n",
              "      <td>4</td>\n",
              "      <td>32635</td>\n",
              "      <td>45405</td>\n",
              "      <td>2</td>\n",
              "      <td>-0.083587</td>\n",
              "      <td>2</td>\n",
              "      <td>0</td>\n",
              "      <td>355</td>\n",
              "      <td>21</td>\n",
              "      <td>False</td>\n",
              "    </tr>\n",
              "    <tr>\n",
              "      <th>32729</th>\n",
              "      <td>29</td>\n",
              "      <td>29</td>\n",
              "      <td>5</td>\n",
              "      <td>2885</td>\n",
              "      <td>45027</td>\n",
              "      <td>3</td>\n",
              "      <td>-0.058239</td>\n",
              "      <td>4</td>\n",
              "      <td>1</td>\n",
              "      <td>353</td>\n",
              "      <td>19</td>\n",
              "      <td>False</td>\n",
              "    </tr>\n",
              "    <tr>\n",
              "      <th>...</th>\n",
              "      <td>...</td>\n",
              "      <td>...</td>\n",
              "      <td>...</td>\n",
              "      <td>...</td>\n",
              "      <td>...</td>\n",
              "      <td>...</td>\n",
              "      <td>...</td>\n",
              "      <td>...</td>\n",
              "      <td>...</td>\n",
              "      <td>...</td>\n",
              "      <td>...</td>\n",
              "      <td>...</td>\n",
              "    </tr>\n",
              "    <tr>\n",
              "      <th>57651</th>\n",
              "      <td>3</td>\n",
              "      <td>3</td>\n",
              "      <td>3</td>\n",
              "      <td>15384</td>\n",
              "      <td>45027</td>\n",
              "      <td>3</td>\n",
              "      <td>0.001909</td>\n",
              "      <td>1</td>\n",
              "      <td>1</td>\n",
              "      <td>11</td>\n",
              "      <td>11</td>\n",
              "      <td>False</td>\n",
              "    </tr>\n",
              "    <tr>\n",
              "      <th>83984</th>\n",
              "      <td>88</td>\n",
              "      <td>88</td>\n",
              "      <td>6</td>\n",
              "      <td>24344</td>\n",
              "      <td>45027</td>\n",
              "      <td>3</td>\n",
              "      <td>-0.075424</td>\n",
              "      <td>2</td>\n",
              "      <td>1</td>\n",
              "      <td>34</td>\n",
              "      <td>3</td>\n",
              "      <td>True</td>\n",
              "    </tr>\n",
              "    <tr>\n",
              "      <th>40753</th>\n",
              "      <td>31</td>\n",
              "      <td>31</td>\n",
              "      <td>6</td>\n",
              "      <td>15384</td>\n",
              "      <td>45027</td>\n",
              "      <td>3</td>\n",
              "      <td>-0.079720</td>\n",
              "      <td>2</td>\n",
              "      <td>1</td>\n",
              "      <td>360</td>\n",
              "      <td>26</td>\n",
              "      <td>False</td>\n",
              "    </tr>\n",
              "    <tr>\n",
              "      <th>19776</th>\n",
              "      <td>62</td>\n",
              "      <td>62</td>\n",
              "      <td>6</td>\n",
              "      <td>15384</td>\n",
              "      <td>45027</td>\n",
              "      <td>3</td>\n",
              "      <td>-0.075424</td>\n",
              "      <td>2</td>\n",
              "      <td>1</td>\n",
              "      <td>341</td>\n",
              "      <td>7</td>\n",
              "      <td>False</td>\n",
              "    </tr>\n",
              "    <tr>\n",
              "      <th>14148</th>\n",
              "      <td>53</td>\n",
              "      <td>53</td>\n",
              "      <td>6</td>\n",
              "      <td>24344</td>\n",
              "      <td>45027</td>\n",
              "      <td>3</td>\n",
              "      <td>-0.079720</td>\n",
              "      <td>2</td>\n",
              "      <td>1</td>\n",
              "      <td>337</td>\n",
              "      <td>3</td>\n",
              "      <td>False</td>\n",
              "    </tr>\n",
              "  </tbody>\n",
              "</table>\n",
              "<p>76529 rows × 12 columns</p>\n",
              "</div>"
            ],
            "text/plain": [
              "       AccountId  ...  TransactionStartTime_is_wkd\n",
              "53329       4457  ...                        False\n",
              "60244         25  ...                        False\n",
              "88038        134  ...                        False\n",
              "35686      30893  ...                        False\n",
              "32729         29  ...                        False\n",
              "...          ...  ...                          ...\n",
              "57651          3  ...                        False\n",
              "83984         88  ...                         True\n",
              "40753         31  ...                        False\n",
              "19776         62  ...                        False\n",
              "14148         53  ...                        False\n",
              "\n",
              "[76529 rows x 12 columns]"
            ]
          },
          "execution_count": 271,
          "metadata": {},
          "output_type": "execute_result"
        }
      ],
      "source": [
        "X_tr"
      ]
    },
    {
      "cell_type": "markdown",
      "metadata": {},
      "source": [
        "##### Courbe d'apprentissage"
      ]
    },
    {
      "cell_type": "code",
      "execution_count": 272,
      "metadata": {},
      "outputs": [],
      "source": [
        "# Ploat learning curve\n",
        "def plot_learning_curve(model, X, y):\n",
        "    \n",
        "    from sklearn.model_selection import learning_curve\n",
        "    \n",
        "    train_size, train_score, val_score = learning_curve(model, X, y, train_sizes=np.linspace(0.1, 1.0, 10), cv=5, scoring='f1', n_jobs=-1)\n",
        "    plt.figure(figsize=(8, 6))\n",
        "    plt.plot(train_size, train_score.mean(axis=1), label='train')\n",
        "    plt.plot(train_size, val_score.mean(axis=1), label='validation')\n",
        "    plt.xlabel('train_size')\n",
        "    plt.ylabel('f1_score')\n",
        "    plt.legend()\n",
        "    plt.title('Learning curve')"
      ]
    },
    {
      "cell_type": "markdown",
      "metadata": {},
      "source": [
        "##### BalancedRandomForestClassifier algorithme"
      ]
    },
    {
      "cell_type": "code",
      "execution_count": null,
      "metadata": {
        "colab": {
          "base_uri": "https://localhost:8080/"
        },
        "id": "BG5tXJ0yl9Th",
        "outputId": "581e44b9-f428-4a14-84d8-7037932c4b4a"
      },
      "outputs": [
        {
          "name": "stderr",
          "output_type": "stream",
          "text": [
            "/home/ahmad-guler/anaconda3/envs/titanic/lib/python3.12/site-packages/sklearn/utils/validation.py:2732: UserWarning: X has feature names, but SelectFromModel was fitted without feature names\n",
            "  warnings.warn(\n",
            "/home/ahmad-guler/anaconda3/envs/titanic/lib/python3.12/site-packages/sklearn/utils/validation.py:2732: UserWarning: X has feature names, but SelectFromModel was fitted without feature names\n",
            "  warnings.warn(\n"
          ]
        },
        {
          "data": {
            "image/png": "[encoded data removed]",
            "text/plain": [
              "<Figure size 1200x800 with 1 Axes>"
            ]
          },
          "metadata": {},
          "output_type": "display_data"
        }
      ],
      "source": [
        "from sklearn.feature_selection import SelectFromModel\n",
        "\n",
        "\n",
        "selector = BalancedRandomForestClassifier(n_estimators=100, random_state=42)\n",
        "selector.fit(X_tr, y_tr)\n",
        "model = SelectFromModel(selector, threshold='median', prefit=True)\n",
        "selected_mask = model.get_support()\n",
        "selected_columns = X_train.columns[selected_mask]\n",
        "\n",
        "X_train_selected = model.transform(X_tr)\n",
        "X_test_selected = model.transform(X_te)\n",
        "\n",
        "# Visualize feature importance of the selected features\n",
        "importances = selector.feature_importances_\n",
        "selected_importances = importances[selected_mask]\n",
        "indices = np.argsort(selected_importances)[::-1]\n",
        "selected_names_sorted = [selected_columns[i] for i in indices]\n",
        "\n",
        "plt.figure(figsize=(12, 8))\n",
        "plt.title(\"Feature Importance of Selected Features\")\n",
        "plt.barh(range(len(selected_importances)), selected_importances[indices])\n",
        "plt.yticks(range(len(selected_importances)), selected_names_sorted)\n",
        "plt.xlabel('Relative Importance')\n",
        "plt.gca().invert_yaxis()  \n",
        "plt.show()\n",
        "\n",
        "\n",
        "# brf = BalancedRandomForestClassifier(random_state=42, n_jobs=-1)\n",
        "# selector.fit(X_tr, y_tr)\n",
        "\n",
        "# y_pred = selector.predict(X_te)\n",
        "\n",
        "# plot_learning_curve(selector, X_tr, y_tr)\n",
        "\n",
        "# print(f\"\"\"\n",
        "#     Accuracy: {accuracy_score(y_te, y_pred)}\\n\n",
        "#     Precision: {precision_score(y_te, y_pred)}\\n\n",
        "#     Recall: {recall_score(y_te, y_pred)}\\n\n",
        "#     F1_score: {f1_score(y_te, y_pred)}\n",
        "# \"\"\")"
      ]
    },
    {
      "cell_type": "markdown",
      "metadata": {},
      "source": [
        "##### DecisionTreeClassifier algorithme"
      ]
    },
    {
      "cell_type": "code",
      "execution_count": 274,
      "metadata": {
        "colab": {
          "base_uri": "https://localhost:8080/"
        },
        "id": "JTUN6mH2rway",
        "outputId": "4808b6b1-55ba-43d1-e32a-d69b0bebb980"
      },
      "outputs": [],
      "source": [
        "from sklearn.tree import DecisionTreeClassifier\n",
        "from sklearn.metrics import classification_report\n",
        "from sklearn.model_selection import GridSearchCV\n",
        "\n",
        "dtc = DecisionTreeClassifier(class_weight={0: 1, 1: 10}, random_state=42)\n",
        "\n",
        "# param_grid = {\n",
        "#     'max_depth': [10, 15, 20],\n",
        "#     'min_samples_split': [5, 10, 20],\n",
        "#     'min_samples_leaf': [2, 5, 10],\n",
        "#     'max_features': ['sqrt', 'log2'],\n",
        "#     'criterion': ['gini', 'entropy'],\n",
        "#     'class_weight': ['balanced']\n",
        "# }\n",
        "\n",
        "# grid_search = GridSearchCV(dtc, param_grid, cv=5, scoring='f1', verbose=2, n_jobs=-1)\n",
        "# grid_search.fit(X_tr, y_tr)\n",
        "\n",
        "# best_mod = grid_search.best_estimator_\n",
        "\n",
        "# Train a cost-sensitive decision tree\n",
        "# dtc.fit(X_tr, y_tr)\n",
        "\n",
        "# # Evaluate the model\n",
        "# y_pred = dtc.predict(X_te)\n",
        "\n",
        "# plot_learning_curve(dtc, X_tr, y_tr)\n",
        "\n",
        "# print(classification_report(y_te, y_pred))\n",
        "# print(f\"\"\"\n",
        "#     Accuracy: {accuracy_score(y_te, y_pred)}\\n\n",
        "#     Precision: {precision_score(y_te, y_pred)}\\n\n",
        "#     Recall: {recall_score(y_te, y_pred)}\\n\n",
        "#     F1_score: {f1_score(y_te, y_pred)}\n",
        "# \"\"\")\n"
      ]
    },
    {
      "cell_type": "markdown",
      "metadata": {},
      "source": [
        "##### Utilisation de smote pour équilibrer les classes"
      ]
    },
    {
      "cell_type": "code",
      "execution_count": 275,
      "metadata": {},
      "outputs": [
        {
          "name": "stdout",
          "output_type": "stream",
          "text": [
            "SMOTE class distribution: Counter({0: 95469, 1: 95469})\n"
          ]
        }
      ],
      "source": [
        "from imblearn.over_sampling import SMOTE\n",
        "from collections import Counter\n",
        "\n",
        "# Apply SMOTE\n",
        "smote = SMOTE(random_state=42)\n",
        "X_smote, y_smote = smote.fit_resample(X, y)\n",
        "print('SMOTE class distribution:', Counter(y_smote))\n"
      ]
    },
    {
      "cell_type": "markdown",
      "metadata": {},
      "source": [
        "##### XGBClassifier algorithme"
      ]
    },
    {
      "cell_type": "code",
      "execution_count": 276,
      "metadata": {},
      "outputs": [],
      "source": [
        "# from xgboost import XGBClassifier\n",
        "\n",
        "# xgb = XGBClassifier(random_state=42)\n",
        "\n",
        "# #Avec smote\n",
        "# xgb.fit(X_smote, y_smote)\n",
        "# y_pred_smot = xgb.predict(X_te)\n",
        "\n",
        "# #Sans smote\n",
        "# xgb.fit(X_tr, y_tr)\n",
        "# y_pred_not_smot = xgb.predict(X_te)\n",
        "\n",
        "# plot_learning_curve(xgb, X_tr, y_tr)\n",
        "\n",
        "# # print(classification_report(y_te, y_pred))\n",
        "\n",
        "# print(f\"\"\"\n",
        "#     Accuracy: sans smote: {accuracy_score(y_te, y_pred_not_smot)}, avec smote: {accuracy_score(y_te, y_pred_smot)}\\n\n",
        "#     Precision: sans smote: {precision_score(y_te, y_pred_not_smot)}, avec smote: {precision_score(y_te, y_pred_smot)}\\n\n",
        "#     Recall: sans smote: {recall_score(y_te, y_pred_not_smot)}, avec smote: {recall_score(y_te, y_pred_smot)}\\n\n",
        "#     F1_score: sans smote: {f1_score(y_te, y_pred_not_smot)}, avec smote: {f1_score(y_te, y_pred_smot)}\n",
        "# \"\"\")"
      ]
    },
    {
      "cell_type": "markdown",
      "metadata": {},
      "source": [
        "##### RandomForestClassifier algorithme"
      ]
    },
    {
      "cell_type": "code",
      "execution_count": 277,
      "metadata": {},
      "outputs": [],
      "source": [
        "from sklearn.ensemble import RandomForestClassifier\n",
        "from sklearn.model_selection import GridSearchCV\n",
        "\n",
        "rfc = RandomForestClassifier(random_state=42, n_jobs=-1)\n",
        "\n",
        "# param_grid = {\n",
        "#     'n_estimators': [200, 500, 1000],\n",
        "#     'max_depth': [10, 20, 30],\n",
        "#     'min_samples_split': [5, 10, 20],\n",
        "#     'min_samples_leaf': [2, 5, 10],\n",
        "#     'max_features': ['sqrt', 'log2'],\n",
        "#     'class_weight': ['balanced']\n",
        "# }\n",
        "\n",
        "# grid_search = GridSearchCV(rfc, param_grid, cv=5, scoring='f1', verbose=2, n_jobs=-1)\n",
        "# grid_search.fit(X_tr, y_tr)\n",
        "\n",
        "# best_mod = grid_search.best_estimator_\n",
        "#avec smote\n",
        "# rfc.fit(X_smote, y_smote)\n",
        "# y_pred_smot = rfc.predict(X_te)\n",
        "\n",
        "#Sans smote\n",
        "# rfc.fit(X_tr, y_tr)\n",
        "# y_pred = rfc.predict(X_te)\n",
        "\n",
        "# plot_learning_curve(rfc, X_tr, y_tr)\n",
        "# print(classification_report(y_te, y_pred))\n",
        "\n",
        "# print(f\"\"\"\n",
        "#     Accuracy: sans smote: {accuracy_score(y_te, y_pred_not_smot)}, avec smote: {accuracy_score(y_te, y_pred_smot)}\\n\n",
        "#     Precision: sans smote: {precision_score(y_te, y_pred_not_smot)}, avec smote: {precision_score(y_te, y_pred_smot)}\\n\n",
        "#     Recall: sans smote: {recall_score(y_te, y_pred_not_smot)}, avec smote: {recall_score(y_te, y_pred_smot)}\\n\n",
        "#     F1_score: sans smote: {f1_score(y_te, y_pred_not_smot)}, avec smote: {f1_score(y_te, y_pred_smot)}\n",
        "# \"\"\")\n",
        "\n",
        "# print(f\"\"\"\n",
        "#     Accuracy: {accuracy_score(y_te, y_pred)}\\n\n",
        "#     Precision: {precision_score(y_te, y_pred)}\\n\n",
        "#     Recall: {recall_score(y_te, y_pred)}\\n\n",
        "#     F1_score: {f1_score(y_te, y_pred)}\n",
        "# \"\"\")"
      ]
    },
    {
      "cell_type": "markdown",
      "metadata": {},
      "source": [
        "##### VotingClassifier"
      ]
    },
    {
      "cell_type": "code",
      "execution_count": null,
      "metadata": {},
      "outputs": [
        {
          "name": "stderr",
          "output_type": "stream",
          "text": [
            "/home/ahmad-guler/anaconda3/envs/titanic/lib/python3.12/site-packages/sklearn/linear_model/_logistic.py:465: ConvergenceWarning: lbfgs failed to converge (status=1):\n",
            "STOP: TOTAL NO. of ITERATIONS REACHED LIMIT.\n",
            "\n",
            "Increase the number of iterations (max_iter) or scale the data as shown in:\n",
            "    https://scikit-learn.org/stable/modules/preprocessing.html\n",
            "Please also refer to the documentation for alternative solver options:\n",
            "    https://scikit-learn.org/stable/modules/linear_model.html#logistic-regression\n",
            "  n_iter_i = _check_optimize_result(\n",
            "/home/ahmad-guler/anaconda3/envs/titanic/lib/python3.12/site-packages/sklearn/linear_model/_logistic.py:465: ConvergenceWarning: lbfgs failed to converge (status=1):\n",
            "STOP: TOTAL NO. of ITERATIONS REACHED LIMIT.\n",
            "\n",
            "Increase the number of iterations (max_iter) or scale the data as shown in:\n",
            "    https://scikit-learn.org/stable/modules/preprocessing.html\n",
            "Please also refer to the documentation for alternative solver options:\n",
            "    https://scikit-learn.org/stable/modules/linear_model.html#logistic-regression\n",
            "  n_iter_i = _check_optimize_result(\n",
            "/home/ahmad-guler/anaconda3/envs/titanic/lib/python3.12/site-packages/sklearn/linear_model/_logistic.py:465: ConvergenceWarning: lbfgs failed to converge (status=1):\n",
            "STOP: TOTAL NO. of ITERATIONS REACHED LIMIT.\n",
            "\n",
            "Increase the number of iterations (max_iter) or scale the data as shown in:\n",
            "    https://scikit-learn.org/stable/modules/preprocessing.html\n",
            "Please also refer to the documentation for alternative solver options:\n",
            "    https://scikit-learn.org/stable/modules/linear_model.html#logistic-regression\n",
            "  n_iter_i = _check_optimize_result(\n",
            "/home/ahmad-guler/anaconda3/envs/titanic/lib/python3.12/site-packages/sklearn/linear_model/_logistic.py:465: ConvergenceWarning: lbfgs failed to converge (status=1):\n",
            "STOP: TOTAL NO. of ITERATIONS REACHED LIMIT.\n",
            "\n",
            "Increase the number of iterations (max_iter) or scale the data as shown in:\n",
            "    https://scikit-learn.org/stable/modules/preprocessing.html\n",
            "Please also refer to the documentation for alternative solver options:\n",
            "    https://scikit-learn.org/stable/modules/linear_model.html#logistic-regression\n",
            "  n_iter_i = _check_optimize_result(\n",
            "/home/ahmad-guler/anaconda3/envs/titanic/lib/python3.12/site-packages/sklearn/linear_model/_logistic.py:465: ConvergenceWarning: lbfgs failed to converge (status=1):\n",
            "STOP: TOTAL NO. of ITERATIONS REACHED LIMIT.\n",
            "\n",
            "Increase the number of iterations (max_iter) or scale the data as shown in:\n",
            "    https://scikit-learn.org/stable/modules/preprocessing.html\n",
            "Please also refer to the documentation for alternative solver options:\n",
            "    https://scikit-learn.org/stable/modules/linear_model.html#logistic-regression\n",
            "  n_iter_i = _check_optimize_result(\n",
            "/home/ahmad-guler/anaconda3/envs/titanic/lib/python3.12/site-packages/sklearn/linear_model/_logistic.py:465: ConvergenceWarning: lbfgs failed to converge (status=1):\n",
            "STOP: TOTAL NO. of ITERATIONS REACHED LIMIT.\n",
            "\n",
            "Increase the number of iterations (max_iter) or scale the data as shown in:\n",
            "    https://scikit-learn.org/stable/modules/preprocessing.html\n",
            "Please also refer to the documentation for alternative solver options:\n",
            "    https://scikit-learn.org/stable/modules/linear_model.html#logistic-regression\n",
            "  n_iter_i = _check_optimize_result(\n",
            "/home/ahmad-guler/anaconda3/envs/titanic/lib/python3.12/site-packages/sklearn/linear_model/_logistic.py:465: ConvergenceWarning: lbfgs failed to converge (status=1):\n",
            "STOP: TOTAL NO. of ITERATIONS REACHED LIMIT.\n",
            "\n",
            "Increase the number of iterations (max_iter) or scale the data as shown in:\n",
            "    https://scikit-learn.org/stable/modules/preprocessing.html\n",
            "Please also refer to the documentation for alternative solver options:\n",
            "    https://scikit-learn.org/stable/modules/linear_model.html#logistic-regression\n",
            "  n_iter_i = _check_optimize_result(\n",
            "/home/ahmad-guler/anaconda3/envs/titanic/lib/python3.12/site-packages/sklearn/linear_model/_logistic.py:465: ConvergenceWarning: lbfgs failed to converge (status=1):\n",
            "STOP: TOTAL NO. of ITERATIONS REACHED LIMIT.\n",
            "\n",
            "Increase the number of iterations (max_iter) or scale the data as shown in:\n",
            "    https://scikit-learn.org/stable/modules/preprocessing.html\n",
            "Please also refer to the documentation for alternative solver options:\n",
            "    https://scikit-learn.org/stable/modules/linear_model.html#logistic-regression\n",
            "  n_iter_i = _check_optimize_result(\n",
            "/home/ahmad-guler/anaconda3/envs/titanic/lib/python3.12/site-packages/sklearn/linear_model/_logistic.py:465: ConvergenceWarning: lbfgs failed to converge (status=1):\n",
            "STOP: TOTAL NO. of ITERATIONS REACHED LIMIT.\n",
            "\n",
            "Increase the number of iterations (max_iter) or scale the data as shown in:\n",
            "    https://scikit-learn.org/stable/modules/preprocessing.html\n",
            "Please also refer to the documentation for alternative solver options:\n",
            "    https://scikit-learn.org/stable/modules/linear_model.html#logistic-regression\n",
            "  n_iter_i = _check_optimize_result(\n",
            "/home/ahmad-guler/anaconda3/envs/titanic/lib/python3.12/site-packages/sklearn/linear_model/_logistic.py:465: ConvergenceWarning: lbfgs failed to converge (status=1):\n",
            "STOP: TOTAL NO. of ITERATIONS REACHED LIMIT.\n",
            "\n",
            "Increase the number of iterations (max_iter) or scale the data as shown in:\n",
            "    https://scikit-learn.org/stable/modules/preprocessing.html\n",
            "Please also refer to the documentation for alternative solver options:\n",
            "    https://scikit-learn.org/stable/modules/linear_model.html#logistic-regression\n",
            "  n_iter_i = _check_optimize_result(\n",
            "/home/ahmad-guler/anaconda3/envs/titanic/lib/python3.12/site-packages/sklearn/linear_model/_logistic.py:465: ConvergenceWarning: lbfgs failed to converge (status=1):\n",
            "STOP: TOTAL NO. of ITERATIONS REACHED LIMIT.\n",
            "\n",
            "Increase the number of iterations (max_iter) or scale the data as shown in:\n",
            "    https://scikit-learn.org/stable/modules/preprocessing.html\n",
            "Please also refer to the documentation for alternative solver options:\n",
            "    https://scikit-learn.org/stable/modules/linear_model.html#logistic-regression\n",
            "  n_iter_i = _check_optimize_result(\n",
            "/home/ahmad-guler/anaconda3/envs/titanic/lib/python3.12/site-packages/sklearn/linear_model/_logistic.py:465: ConvergenceWarning: lbfgs failed to converge (status=1):\n",
            "STOP: TOTAL NO. of ITERATIONS REACHED LIMIT.\n",
            "\n",
            "Increase the number of iterations (max_iter) or scale the data as shown in:\n",
            "    https://scikit-learn.org/stable/modules/preprocessing.html\n",
            "Please also refer to the documentation for alternative solver options:\n",
            "    https://scikit-learn.org/stable/modules/linear_model.html#logistic-regression\n",
            "  n_iter_i = _check_optimize_result(\n",
            "/home/ahmad-guler/anaconda3/envs/titanic/lib/python3.12/site-packages/sklearn/linear_model/_logistic.py:465: ConvergenceWarning: lbfgs failed to converge (status=1):\n",
            "STOP: TOTAL NO. of ITERATIONS REACHED LIMIT.\n",
            "\n",
            "Increase the number of iterations (max_iter) or scale the data as shown in:\n",
            "    https://scikit-learn.org/stable/modules/preprocessing.html\n",
            "Please also refer to the documentation for alternative solver options:\n",
            "    https://scikit-learn.org/stable/modules/linear_model.html#logistic-regression\n",
            "  n_iter_i = _check_optimize_result(\n",
            "/home/ahmad-guler/anaconda3/envs/titanic/lib/python3.12/site-packages/sklearn/linear_model/_logistic.py:465: ConvergenceWarning: lbfgs failed to converge (status=1):\n",
            "STOP: TOTAL NO. of ITERATIONS REACHED LIMIT.\n",
            "\n",
            "Increase the number of iterations (max_iter) or scale the data as shown in:\n",
            "    https://scikit-learn.org/stable/modules/preprocessing.html\n",
            "Please also refer to the documentation for alternative solver options:\n",
            "    https://scikit-learn.org/stable/modules/linear_model.html#logistic-regression\n",
            "  n_iter_i = _check_optimize_result(\n",
            "/home/ahmad-guler/anaconda3/envs/titanic/lib/python3.12/site-packages/sklearn/linear_model/_logistic.py:465: ConvergenceWarning: lbfgs failed to converge (status=1):\n",
            "STOP: TOTAL NO. of ITERATIONS REACHED LIMIT.\n",
            "\n",
            "Increase the number of iterations (max_iter) or scale the data as shown in:\n",
            "    https://scikit-learn.org/stable/modules/preprocessing.html\n",
            "Please also refer to the documentation for alternative solver options:\n",
            "    https://scikit-learn.org/stable/modules/linear_model.html#logistic-regression\n",
            "  n_iter_i = _check_optimize_result(\n",
            "/home/ahmad-guler/anaconda3/envs/titanic/lib/python3.12/site-packages/sklearn/linear_model/_logistic.py:465: ConvergenceWarning: lbfgs failed to converge (status=1):\n",
            "STOP: TOTAL NO. of ITERATIONS REACHED LIMIT.\n",
            "\n",
            "Increase the number of iterations (max_iter) or scale the data as shown in:\n",
            "    https://scikit-learn.org/stable/modules/preprocessing.html\n",
            "Please also refer to the documentation for alternative solver options:\n",
            "    https://scikit-learn.org/stable/modules/linear_model.html#logistic-regression\n",
            "  n_iter_i = _check_optimize_result(\n",
            "/home/ahmad-guler/anaconda3/envs/titanic/lib/python3.12/site-packages/sklearn/linear_model/_logistic.py:465: ConvergenceWarning: lbfgs failed to converge (status=1):\n",
            "STOP: TOTAL NO. of ITERATIONS REACHED LIMIT.\n",
            "\n",
            "Increase the number of iterations (max_iter) or scale the data as shown in:\n",
            "    https://scikit-learn.org/stable/modules/preprocessing.html\n",
            "Please also refer to the documentation for alternative solver options:\n",
            "    https://scikit-learn.org/stable/modules/linear_model.html#logistic-regression\n",
            "  n_iter_i = _check_optimize_result(\n",
            "/home/ahmad-guler/anaconda3/envs/titanic/lib/python3.12/site-packages/sklearn/linear_model/_logistic.py:465: ConvergenceWarning: lbfgs failed to converge (status=1):\n",
            "STOP: TOTAL NO. of ITERATIONS REACHED LIMIT.\n",
            "\n",
            "Increase the number of iterations (max_iter) or scale the data as shown in:\n",
            "    https://scikit-learn.org/stable/modules/preprocessing.html\n",
            "Please also refer to the documentation for alternative solver options:\n",
            "    https://scikit-learn.org/stable/modules/linear_model.html#logistic-regression\n",
            "  n_iter_i = _check_optimize_result(\n",
            "/home/ahmad-guler/anaconda3/envs/titanic/lib/python3.12/site-packages/sklearn/linear_model/_logistic.py:465: ConvergenceWarning: lbfgs failed to converge (status=1):\n",
            "STOP: TOTAL NO. of ITERATIONS REACHED LIMIT.\n",
            "\n",
            "Increase the number of iterations (max_iter) or scale the data as shown in:\n",
            "    https://scikit-learn.org/stable/modules/preprocessing.html\n",
            "Please also refer to the documentation for alternative solver options:\n",
            "    https://scikit-learn.org/stable/modules/linear_model.html#logistic-regression\n",
            "  n_iter_i = _check_optimize_result(\n",
            "/home/ahmad-guler/anaconda3/envs/titanic/lib/python3.12/site-packages/sklearn/linear_model/_logistic.py:465: ConvergenceWarning: lbfgs failed to converge (status=1):\n",
            "STOP: TOTAL NO. of ITERATIONS REACHED LIMIT.\n",
            "\n",
            "Increase the number of iterations (max_iter) or scale the data as shown in:\n",
            "    https://scikit-learn.org/stable/modules/preprocessing.html\n",
            "Please also refer to the documentation for alternative solver options:\n",
            "    https://scikit-learn.org/stable/modules/linear_model.html#logistic-regression\n",
            "  n_iter_i = _check_optimize_result(\n",
            "/home/ahmad-guler/anaconda3/envs/titanic/lib/python3.12/site-packages/sklearn/linear_model/_logistic.py:465: ConvergenceWarning: lbfgs failed to converge (status=1):\n",
            "STOP: TOTAL NO. of ITERATIONS REACHED LIMIT.\n",
            "\n",
            "Increase the number of iterations (max_iter) or scale the data as shown in:\n",
            "    https://scikit-learn.org/stable/modules/preprocessing.html\n",
            "Please also refer to the documentation for alternative solver options:\n",
            "    https://scikit-learn.org/stable/modules/linear_model.html#logistic-regression\n",
            "  n_iter_i = _check_optimize_result(\n",
            "/home/ahmad-guler/anaconda3/envs/titanic/lib/python3.12/site-packages/sklearn/linear_model/_logistic.py:465: ConvergenceWarning: lbfgs failed to converge (status=1):\n",
            "STOP: TOTAL NO. of ITERATIONS REACHED LIMIT.\n",
            "\n",
            "Increase the number of iterations (max_iter) or scale the data as shown in:\n",
            "    https://scikit-learn.org/stable/modules/preprocessing.html\n",
            "Please also refer to the documentation for alternative solver options:\n",
            "    https://scikit-learn.org/stable/modules/linear_model.html#logistic-regression\n",
            "  n_iter_i = _check_optimize_result(\n",
            "/home/ahmad-guler/anaconda3/envs/titanic/lib/python3.12/site-packages/sklearn/linear_model/_logistic.py:465: ConvergenceWarning: lbfgs failed to converge (status=1):\n",
            "STOP: TOTAL NO. of ITERATIONS REACHED LIMIT.\n",
            "\n",
            "Increase the number of iterations (max_iter) or scale the data as shown in:\n",
            "    https://scikit-learn.org/stable/modules/preprocessing.html\n",
            "Please also refer to the documentation for alternative solver options:\n",
            "    https://scikit-learn.org/stable/modules/linear_model.html#logistic-regression\n",
            "  n_iter_i = _check_optimize_result(\n",
            "/home/ahmad-guler/anaconda3/envs/titanic/lib/python3.12/site-packages/sklearn/linear_model/_logistic.py:465: ConvergenceWarning: lbfgs failed to converge (status=1):\n",
            "STOP: TOTAL NO. of ITERATIONS REACHED LIMIT.\n",
            "\n",
            "Increase the number of iterations (max_iter) or scale the data as shown in:\n",
            "    https://scikit-learn.org/stable/modules/preprocessing.html\n",
            "Please also refer to the documentation for alternative solver options:\n",
            "    https://scikit-learn.org/stable/modules/linear_model.html#logistic-regression\n",
            "  n_iter_i = _check_optimize_result(\n",
            "/home/ahmad-guler/anaconda3/envs/titanic/lib/python3.12/site-packages/sklearn/linear_model/_logistic.py:465: ConvergenceWarning: lbfgs failed to converge (status=1):\n",
            "STOP: TOTAL NO. of ITERATIONS REACHED LIMIT.\n",
            "\n",
            "Increase the number of iterations (max_iter) or scale the data as shown in:\n",
            "    https://scikit-learn.org/stable/modules/preprocessing.html\n",
            "Please also refer to the documentation for alternative solver options:\n",
            "    https://scikit-learn.org/stable/modules/linear_model.html#logistic-regression\n",
            "  n_iter_i = _check_optimize_result(\n",
            "/home/ahmad-guler/anaconda3/envs/titanic/lib/python3.12/site-packages/sklearn/linear_model/_logistic.py:465: ConvergenceWarning: lbfgs failed to converge (status=1):\n",
            "STOP: TOTAL NO. of ITERATIONS REACHED LIMIT.\n",
            "\n",
            "Increase the number of iterations (max_iter) or scale the data as shown in:\n",
            "    https://scikit-learn.org/stable/modules/preprocessing.html\n",
            "Please also refer to the documentation for alternative solver options:\n",
            "    https://scikit-learn.org/stable/modules/linear_model.html#logistic-regression\n",
            "  n_iter_i = _check_optimize_result(\n",
            "/home/ahmad-guler/anaconda3/envs/titanic/lib/python3.12/site-packages/sklearn/linear_model/_logistic.py:465: ConvergenceWarning: lbfgs failed to converge (status=1):\n",
            "STOP: TOTAL NO. of ITERATIONS REACHED LIMIT.\n",
            "\n",
            "Increase the number of iterations (max_iter) or scale the data as shown in:\n",
            "    https://scikit-learn.org/stable/modules/preprocessing.html\n",
            "Please also refer to the documentation for alternative solver options:\n",
            "    https://scikit-learn.org/stable/modules/linear_model.html#logistic-regression\n",
            "  n_iter_i = _check_optimize_result(\n",
            "/home/ahmad-guler/anaconda3/envs/titanic/lib/python3.12/site-packages/sklearn/linear_model/_logistic.py:465: ConvergenceWarning: lbfgs failed to converge (status=1):\n",
            "STOP: TOTAL NO. of ITERATIONS REACHED LIMIT.\n",
            "\n",
            "Increase the number of iterations (max_iter) or scale the data as shown in:\n",
            "    https://scikit-learn.org/stable/modules/preprocessing.html\n",
            "Please also refer to the documentation for alternative solver options:\n",
            "    https://scikit-learn.org/stable/modules/linear_model.html#logistic-regression\n",
            "  n_iter_i = _check_optimize_result(\n",
            "/home/ahmad-guler/anaconda3/envs/titanic/lib/python3.12/site-packages/sklearn/linear_model/_logistic.py:465: ConvergenceWarning: lbfgs failed to converge (status=1):\n",
            "STOP: TOTAL NO. of ITERATIONS REACHED LIMIT.\n",
            "\n",
            "Increase the number of iterations (max_iter) or scale the data as shown in:\n",
            "    https://scikit-learn.org/stable/modules/preprocessing.html\n",
            "Please also refer to the documentation for alternative solver options:\n",
            "    https://scikit-learn.org/stable/modules/linear_model.html#logistic-regression\n",
            "  n_iter_i = _check_optimize_result(\n",
            "/home/ahmad-guler/anaconda3/envs/titanic/lib/python3.12/site-packages/sklearn/linear_model/_logistic.py:465: ConvergenceWarning: lbfgs failed to converge (status=1):\n",
            "STOP: TOTAL NO. of ITERATIONS REACHED LIMIT.\n",
            "\n",
            "Increase the number of iterations (max_iter) or scale the data as shown in:\n",
            "    https://scikit-learn.org/stable/modules/preprocessing.html\n",
            "Please also refer to the documentation for alternative solver options:\n",
            "    https://scikit-learn.org/stable/modules/linear_model.html#logistic-regression\n",
            "  n_iter_i = _check_optimize_result(\n",
            "/home/ahmad-guler/anaconda3/envs/titanic/lib/python3.12/site-packages/sklearn/linear_model/_logistic.py:465: ConvergenceWarning: lbfgs failed to converge (status=1):\n",
            "STOP: TOTAL NO. of ITERATIONS REACHED LIMIT.\n",
            "\n",
            "Increase the number of iterations (max_iter) or scale the data as shown in:\n",
            "    https://scikit-learn.org/stable/modules/preprocessing.html\n",
            "Please also refer to the documentation for alternative solver options:\n",
            "    https://scikit-learn.org/stable/modules/linear_model.html#logistic-regression\n",
            "  n_iter_i = _check_optimize_result(\n",
            "/home/ahmad-guler/anaconda3/envs/titanic/lib/python3.12/site-packages/sklearn/linear_model/_logistic.py:465: ConvergenceWarning: lbfgs failed to converge (status=1):\n",
            "STOP: TOTAL NO. of ITERATIONS REACHED LIMIT.\n",
            "\n",
            "Increase the number of iterations (max_iter) or scale the data as shown in:\n",
            "    https://scikit-learn.org/stable/modules/preprocessing.html\n",
            "Please also refer to the documentation for alternative solver options:\n",
            "    https://scikit-learn.org/stable/modules/linear_model.html#logistic-regression\n",
            "  n_iter_i = _check_optimize_result(\n",
            "/home/ahmad-guler/anaconda3/envs/titanic/lib/python3.12/site-packages/sklearn/linear_model/_logistic.py:465: ConvergenceWarning: lbfgs failed to converge (status=1):\n",
            "STOP: TOTAL NO. of ITERATIONS REACHED LIMIT.\n",
            "\n",
            "Increase the number of iterations (max_iter) or scale the data as shown in:\n",
            "    https://scikit-learn.org/stable/modules/preprocessing.html\n",
            "Please also refer to the documentation for alternative solver options:\n",
            "    https://scikit-learn.org/stable/modules/linear_model.html#logistic-regression\n",
            "  n_iter_i = _check_optimize_result(\n",
            "/home/ahmad-guler/anaconda3/envs/titanic/lib/python3.12/site-packages/sklearn/linear_model/_logistic.py:465: ConvergenceWarning: lbfgs failed to converge (status=1):\n",
            "STOP: TOTAL NO. of ITERATIONS REACHED LIMIT.\n",
            "\n",
            "Increase the number of iterations (max_iter) or scale the data as shown in:\n",
            "    https://scikit-learn.org/stable/modules/preprocessing.html\n",
            "Please also refer to the documentation for alternative solver options:\n",
            "    https://scikit-learn.org/stable/modules/linear_model.html#logistic-regression\n",
            "  n_iter_i = _check_optimize_result(\n",
            "/home/ahmad-guler/anaconda3/envs/titanic/lib/python3.12/site-packages/sklearn/linear_model/_logistic.py:465: ConvergenceWarning: lbfgs failed to converge (status=1):\n",
            "STOP: TOTAL NO. of ITERATIONS REACHED LIMIT.\n",
            "\n",
            "Increase the number of iterations (max_iter) or scale the data as shown in:\n",
            "    https://scikit-learn.org/stable/modules/preprocessing.html\n",
            "Please also refer to the documentation for alternative solver options:\n",
            "    https://scikit-learn.org/stable/modules/linear_model.html#logistic-regression\n",
            "  n_iter_i = _check_optimize_result(\n",
            "/home/ahmad-guler/anaconda3/envs/titanic/lib/python3.12/site-packages/sklearn/linear_model/_logistic.py:465: ConvergenceWarning: lbfgs failed to converge (status=1):\n",
            "STOP: TOTAL NO. of ITERATIONS REACHED LIMIT.\n",
            "\n",
            "Increase the number of iterations (max_iter) or scale the data as shown in:\n",
            "    https://scikit-learn.org/stable/modules/preprocessing.html\n",
            "Please also refer to the documentation for alternative solver options:\n",
            "    https://scikit-learn.org/stable/modules/linear_model.html#logistic-regression\n",
            "  n_iter_i = _check_optimize_result(\n",
            "/home/ahmad-guler/anaconda3/envs/titanic/lib/python3.12/site-packages/sklearn/linear_model/_logistic.py:465: ConvergenceWarning: lbfgs failed to converge (status=1):\n",
            "STOP: TOTAL NO. of ITERATIONS REACHED LIMIT.\n",
            "\n",
            "Increase the number of iterations (max_iter) or scale the data as shown in:\n",
            "    https://scikit-learn.org/stable/modules/preprocessing.html\n",
            "Please also refer to the documentation for alternative solver options:\n",
            "    https://scikit-learn.org/stable/modules/linear_model.html#logistic-regression\n",
            "  n_iter_i = _check_optimize_result(\n",
            "/home/ahmad-guler/anaconda3/envs/titanic/lib/python3.12/site-packages/sklearn/linear_model/_logistic.py:465: ConvergenceWarning: lbfgs failed to converge (status=1):\n",
            "STOP: TOTAL NO. of ITERATIONS REACHED LIMIT.\n",
            "\n",
            "Increase the number of iterations (max_iter) or scale the data as shown in:\n",
            "    https://scikit-learn.org/stable/modules/preprocessing.html\n",
            "Please also refer to the documentation for alternative solver options:\n",
            "    https://scikit-learn.org/stable/modules/linear_model.html#logistic-regression\n",
            "  n_iter_i = _check_optimize_result(\n",
            "/home/ahmad-guler/anaconda3/envs/titanic/lib/python3.12/site-packages/sklearn/linear_model/_logistic.py:465: ConvergenceWarning: lbfgs failed to converge (status=1):\n",
            "STOP: TOTAL NO. of ITERATIONS REACHED LIMIT.\n",
            "\n",
            "Increase the number of iterations (max_iter) or scale the data as shown in:\n",
            "    https://scikit-learn.org/stable/modules/preprocessing.html\n",
            "Please also refer to the documentation for alternative solver options:\n",
            "    https://scikit-learn.org/stable/modules/linear_model.html#logistic-regression\n",
            "  n_iter_i = _check_optimize_result(\n",
            "/home/ahmad-guler/anaconda3/envs/titanic/lib/python3.12/site-packages/sklearn/linear_model/_logistic.py:465: ConvergenceWarning: lbfgs failed to converge (status=1):\n",
            "STOP: TOTAL NO. of ITERATIONS REACHED LIMIT.\n",
            "\n",
            "Increase the number of iterations (max_iter) or scale the data as shown in:\n",
            "    https://scikit-learn.org/stable/modules/preprocessing.html\n",
            "Please also refer to the documentation for alternative solver options:\n",
            "    https://scikit-learn.org/stable/modules/linear_model.html#logistic-regression\n",
            "  n_iter_i = _check_optimize_result(\n",
            "/home/ahmad-guler/anaconda3/envs/titanic/lib/python3.12/site-packages/sklearn/linear_model/_logistic.py:465: ConvergenceWarning: lbfgs failed to converge (status=1):\n",
            "STOP: TOTAL NO. of ITERATIONS REACHED LIMIT.\n",
            "\n",
            "Increase the number of iterations (max_iter) or scale the data as shown in:\n",
            "    https://scikit-learn.org/stable/modules/preprocessing.html\n",
            "Please also refer to the documentation for alternative solver options:\n",
            "    https://scikit-learn.org/stable/modules/linear_model.html#logistic-regression\n",
            "  n_iter_i = _check_optimize_result(\n",
            "/home/ahmad-guler/anaconda3/envs/titanic/lib/python3.12/site-packages/sklearn/linear_model/_logistic.py:465: ConvergenceWarning: lbfgs failed to converge (status=1):\n",
            "STOP: TOTAL NO. of ITERATIONS REACHED LIMIT.\n",
            "\n",
            "Increase the number of iterations (max_iter) or scale the data as shown in:\n",
            "    https://scikit-learn.org/stable/modules/preprocessing.html\n",
            "Please also refer to the documentation for alternative solver options:\n",
            "    https://scikit-learn.org/stable/modules/linear_model.html#logistic-regression\n",
            "  n_iter_i = _check_optimize_result(\n",
            "/home/ahmad-guler/anaconda3/envs/titanic/lib/python3.12/site-packages/sklearn/linear_model/_logistic.py:465: ConvergenceWarning: lbfgs failed to converge (status=1):\n",
            "STOP: TOTAL NO. of ITERATIONS REACHED LIMIT.\n",
            "\n",
            "Increase the number of iterations (max_iter) or scale the data as shown in:\n",
            "    https://scikit-learn.org/stable/modules/preprocessing.html\n",
            "Please also refer to the documentation for alternative solver options:\n",
            "    https://scikit-learn.org/stable/modules/linear_model.html#logistic-regression\n",
            "  n_iter_i = _check_optimize_result(\n",
            "/home/ahmad-guler/anaconda3/envs/titanic/lib/python3.12/site-packages/sklearn/linear_model/_logistic.py:465: ConvergenceWarning: lbfgs failed to converge (status=1):\n",
            "STOP: TOTAL NO. of ITERATIONS REACHED LIMIT.\n",
            "\n",
            "Increase the number of iterations (max_iter) or scale the data as shown in:\n",
            "    https://scikit-learn.org/stable/modules/preprocessing.html\n",
            "Please also refer to the documentation for alternative solver options:\n",
            "    https://scikit-learn.org/stable/modules/linear_model.html#logistic-regression\n",
            "  n_iter_i = _check_optimize_result(\n",
            "/home/ahmad-guler/anaconda3/envs/titanic/lib/python3.12/site-packages/sklearn/linear_model/_logistic.py:465: ConvergenceWarning: lbfgs failed to converge (status=1):\n",
            "STOP: TOTAL NO. of ITERATIONS REACHED LIMIT.\n",
            "\n",
            "Increase the number of iterations (max_iter) or scale the data as shown in:\n",
            "    https://scikit-learn.org/stable/modules/preprocessing.html\n",
            "Please also refer to the documentation for alternative solver options:\n",
            "    https://scikit-learn.org/stable/modules/linear_model.html#logistic-regression\n",
            "  n_iter_i = _check_optimize_result(\n",
            "/home/ahmad-guler/anaconda3/envs/titanic/lib/python3.12/site-packages/sklearn/linear_model/_logistic.py:465: ConvergenceWarning: lbfgs failed to converge (status=1):\n",
            "STOP: TOTAL NO. of ITERATIONS REACHED LIMIT.\n",
            "\n",
            "Increase the number of iterations (max_iter) or scale the data as shown in:\n",
            "    https://scikit-learn.org/stable/modules/preprocessing.html\n",
            "Please also refer to the documentation for alternative solver options:\n",
            "    https://scikit-learn.org/stable/modules/linear_model.html#logistic-regression\n",
            "  n_iter_i = _check_optimize_result(\n",
            "/home/ahmad-guler/anaconda3/envs/titanic/lib/python3.12/site-packages/sklearn/linear_model/_logistic.py:465: ConvergenceWarning: lbfgs failed to converge (status=1):\n",
            "STOP: TOTAL NO. of ITERATIONS REACHED LIMIT.\n",
            "\n",
            "Increase the number of iterations (max_iter) or scale the data as shown in:\n",
            "    https://scikit-learn.org/stable/modules/preprocessing.html\n",
            "Please also refer to the documentation for alternative solver options:\n",
            "    https://scikit-learn.org/stable/modules/linear_model.html#logistic-regression\n",
            "  n_iter_i = _check_optimize_result(\n",
            "/home/ahmad-guler/anaconda3/envs/titanic/lib/python3.12/site-packages/sklearn/linear_model/_logistic.py:465: ConvergenceWarning: lbfgs failed to converge (status=1):\n",
            "STOP: TOTAL NO. of ITERATIONS REACHED LIMIT.\n",
            "\n",
            "Increase the number of iterations (max_iter) or scale the data as shown in:\n",
            "    https://scikit-learn.org/stable/modules/preprocessing.html\n",
            "Please also refer to the documentation for alternative solver options:\n",
            "    https://scikit-learn.org/stable/modules/linear_model.html#logistic-regression\n",
            "  n_iter_i = _check_optimize_result(\n",
            "/home/ahmad-guler/anaconda3/envs/titanic/lib/python3.12/site-packages/sklearn/linear_model/_logistic.py:465: ConvergenceWarning: lbfgs failed to converge (status=1):\n",
            "STOP: TOTAL NO. of ITERATIONS REACHED LIMIT.\n",
            "\n",
            "Increase the number of iterations (max_iter) or scale the data as shown in:\n",
            "    https://scikit-learn.org/stable/modules/preprocessing.html\n",
            "Please also refer to the documentation for alternative solver options:\n",
            "    https://scikit-learn.org/stable/modules/linear_model.html#logistic-regression\n",
            "  n_iter_i = _check_optimize_result(\n",
            "/home/ahmad-guler/anaconda3/envs/titanic/lib/python3.12/site-packages/sklearn/linear_model/_logistic.py:465: ConvergenceWarning: lbfgs failed to converge (status=1):\n",
            "STOP: TOTAL NO. of ITERATIONS REACHED LIMIT.\n",
            "\n",
            "Increase the number of iterations (max_iter) or scale the data as shown in:\n",
            "    https://scikit-learn.org/stable/modules/preprocessing.html\n",
            "Please also refer to the documentation for alternative solver options:\n",
            "    https://scikit-learn.org/stable/modules/linear_model.html#logistic-regression\n",
            "  n_iter_i = _check_optimize_result(\n",
            "/home/ahmad-guler/anaconda3/envs/titanic/lib/python3.12/site-packages/sklearn/linear_model/_logistic.py:465: ConvergenceWarning: lbfgs failed to converge (status=1):\n",
            "STOP: TOTAL NO. of ITERATIONS REACHED LIMIT.\n",
            "\n",
            "Increase the number of iterations (max_iter) or scale the data as shown in:\n",
            "    https://scikit-learn.org/stable/modules/preprocessing.html\n",
            "Please also refer to the documentation for alternative solver options:\n",
            "    https://scikit-learn.org/stable/modules/linear_model.html#logistic-regression\n",
            "  n_iter_i = _check_optimize_result(\n"
          ]
        },
        {
          "name": "stdout",
          "output_type": "stream",
          "text": [
            "              precision    recall  f1-score   support\n",
            "\n",
            "           0       1.00      1.00      1.00     19094\n",
            "           1       0.90      0.90      0.90        39\n",
            "\n",
            "    accuracy                           1.00     19133\n",
            "   macro avg       0.95      0.95      0.95     19133\n",
            "weighted avg       1.00      1.00      1.00     19133\n",
            "\n",
            "\n",
            "    Accuracy: 0.9995818742486803\n",
            "\n",
            "    Precision: 0.8974358974358975\n",
            "\n",
            "    Recall: 0.8974358974358975\n",
            "\n",
            "    F1_score: 0.8974358974358975\n",
            "\n"
          ]
        },
        {
          "data": {
            "image/png": "[encoded data removed]",
            "text/plain": [
              "<Figure size 800x600 with 1 Axes>"
            ]
          },
          "metadata": {},
          "output_type": "display_data"
        }
      ],
      "source": [
        "from sklearn.ensemble import VotingClassifier\n",
        "from sklearn.naive_bayes import GaussianNB\n",
        "from sklearn.neighbors import KNeighborsClassifier\n",
        "from sklearn.linear_model import LogisticRegression\n",
        "\n",
        "\n",
        "vc = VotingClassifier(estimators=[\n",
        "    ('dtc', dtc),\n",
        "    ('rfc', rfc),\n",
        "    ('gnb', GaussianNB()),\n",
        "    ('knn', KNeighborsClassifier(n_neighbors=3)),\n",
        "    ('lr', LogisticRegression(random_state=1))\n",
        "], voting='soft')\n",
        "\n",
        "vc.fit(X_tr[selected_names_sorted], y_tr)\n",
        "\n",
        "y_pred = vc.predict(X_te[selected_names_sorted])\n",
        "\n",
        "plot_learning_curve(vc, X_tr, y_tr)\n",
        "print(classification_report(y_te, y_pred))\n",
        "\n",
        "print(f\"\"\"\n",
        "    Accuracy: {accuracy_score(y_te, y_pred)}\\n\n",
        "    Precision: {precision_score(y_te, y_pred)}\\n\n",
        "    Recall: {recall_score(y_te, y_pred)}\\n\n",
        "    F1_score: {f1_score(y_te, y_pred)}\n",
        "\"\"\")\n",
        "\n"
      ]
    },
    {
      "cell_type": "markdown",
      "metadata": {},
      "source": [
        "##### MultiLayerPerceptron Classifier"
      ]
    },
    {
      "cell_type": "code",
      "execution_count": 279,
      "metadata": {},
      "outputs": [],
      "source": [
        "# from sklearn.neural_network import MLPClassifier\n",
        "\n",
        "# mlpc = MLPClassifier(solver='lbfgs', alpha=1e-5,\n",
        "#                     hidden_layer_sizes=(6, 3), random_state=1)\n",
        "\n",
        "# mlpc.fit(X_tr, y_tr)\n",
        "\n",
        "# y_pred = mlpc.predict(X_te)\n",
        "\n",
        "# plot_learning_curve(mlpc, X_tr, y_tr)\n",
        "# # print(classification_report(y_te, y_pred))\n",
        "\n",
        "# print(f\"\"\"\n",
        "#     Accuracy: {accuracy_score(y_te, y_pred)}\\n\n",
        "#     Precision: {precision_score(y_te, y_pred)}\\n\n",
        "#     Recall: {recall_score(y_te, y_pred)}\\n\n",
        "#     F1_score: {f1_score(y_te, y_pred)}\n",
        "# \"\"\")"
      ]
    },
    {
      "cell_type": "markdown",
      "metadata": {},
      "source": [
        "##### Nearest Neighbors Classification"
      ]
    },
    {
      "cell_type": "code",
      "execution_count": 280,
      "metadata": {},
      "outputs": [],
      "source": [
        "# from sklearn.neighbors import KNeighborsClassifier\n",
        "\n",
        "# knn = KNeighborsClassifier(n_neighbors=3, n_jobs=-1)\n",
        "\n",
        "# knn.fit(X_tr, y_tr)\n",
        "\n",
        "# y_pred = knn.predict(X_te)\n",
        "\n",
        "# plot_learning_curve(knn, X_tr, y_tr)\n",
        "# # print(classification_report(y_te, y_pred))\n",
        "\n",
        "# print(f\"\"\"\n",
        "#     Accuracy: {accuracy_score(y_te, y_pred)}\\n\n",
        "#     Precision: {precision_score(y_te, y_pred)}\\n\n",
        "#     Recall: {recall_score(y_te, y_pred)}\\n\n",
        "#     F1_score: {f1_score(y_te, y_pred)}\n",
        "# \"\"\")"
      ]
    },
    {
      "cell_type": "markdown",
      "metadata": {},
      "source": [
        "##### Choix du meilleur model"
      ]
    },
    {
      "cell_type": "code",
      "execution_count": 283,
      "metadata": {},
      "outputs": [],
      "source": [
        "best_model = vc\n",
        "\n",
        "y_sub = best_model.predict(X_test[selected_names_sorted])\n",
        "\n",
        "sub = pd.DataFrame({\n",
        "    'TransactionId': Test_TransactionId,\n",
        "    'FraudResult': y_sub.astype(int)\n",
        "})\n",
        "\n",
        "\n",
        "sub.to_csv('submission.csv', index=False)"
      ]
    }
  ],
  "metadata": {
    "accelerator": "GPU",
    "colab": {
      "gpuType": "T4",
      "provenance": []
    },
    "kernelspec": {
      "display_name": "titanic",
      "language": "python",
      "name": "python3"
    },
    "language_info": {
      "codemirror_mode": {
        "name": "ipython",
        "version": 3
      },
      "file_extension": ".py",
      "mimetype": "text/x-python",
      "name": "python",
      "nbconvert_exporter": "python",
      "pygments_lexer": "ipython3",
      "version": "3.12.7"
    }
  },
  "nbformat": 4,
  "nbformat_minor": 0
}
